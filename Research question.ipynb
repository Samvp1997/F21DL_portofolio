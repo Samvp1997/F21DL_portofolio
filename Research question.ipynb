{
 "cells": [
  {
   "cell_type": "markdown",
   "id": "9b896a4e",
   "metadata": {},
   "source": [
    "## Introduction\n",
    "\n",
    "As can be seen throughout this portofolio, all the algorithms kept running into the same problem. This problem was that the algorithm was not able/found it very hard to predict the outer (extreme) classes. The classes with the grades 3,4 and 8. The main reason for this is probably the amount of data compared to the other classes. This makes the accomplishment of near 70% accuracy even more interesting. This research will investigate if there is a solution to this problem for this dataset and if even higher results are possible.  "
   ]
  },
  {
   "cell_type": "markdown",
   "id": "aa02494b",
   "metadata": {},
   "source": [
    "The first solution will be to try and level out the data throughout the classes. All classes will have the same amount of samples. Reducing the amount of samples could cause the problem of not having enough data to make good predictions, but results will show."
   ]
  },
  {
   "cell_type": "code",
   "execution_count": 1,
   "id": "3edd6fdc",
   "metadata": {},
   "outputs": [
    {
     "name": "stdout",
     "output_type": "stream",
     "text": [
      "<class 'pandas.core.frame.DataFrame'>\n",
      "RangeIndex: 1599 entries, 0 to 1598\n",
      "Data columns (total 12 columns):\n",
      " #   Column                Non-Null Count  Dtype  \n",
      "---  ------                --------------  -----  \n",
      " 0   fixed acidity         1599 non-null   float64\n",
      " 1   volatile acidity      1599 non-null   float64\n",
      " 2   citric acid           1599 non-null   float64\n",
      " 3   residual sugar        1599 non-null   float64\n",
      " 4   chlorides             1599 non-null   float64\n",
      " 5   free sulfur dioxide   1599 non-null   float64\n",
      " 6   total sulfur dioxide  1599 non-null   float64\n",
      " 7   density               1599 non-null   float64\n",
      " 8   pH                    1599 non-null   float64\n",
      " 9   sulphates             1599 non-null   float64\n",
      " 10  alcohol               1599 non-null   float64\n",
      " 11  quality               1599 non-null   int64  \n",
      "dtypes: float64(11), int64(1)\n",
      "memory usage: 150.0 KB\n",
      "[[ 10   0   0   0   0   0]\n",
      " [  0  53   0   0   0   0]\n",
      " [  0   0 681   0   0   0]\n",
      " [  0   0   0 638   0   0]\n",
      " [  0   0   0   0 199   0]\n",
      " [  0   0   0   0   0  18]]\n",
      "Accuracy score =  1.0\n",
      "Precision score =  [1. 1. 1. 1. 1. 1.]\n",
      "Recall score =  [1. 1. 1. 1. 1. 1.]\n",
      "F measure =  [1. 1. 1. 1. 1. 1.]\n",
      " \n"
     ]
    },
    {
     "data": {
      "text/plain": [
       "Index(['fixed acidity', 'volatile acidity', 'citric acid', 'residual sugar',\n",
       "       'chlorides', 'free sulfur dioxide', 'total sulfur dioxide', 'density',\n",
       "       'pH', 'sulphates', 'alcohol', 'quality'],\n",
       "      dtype='object')"
      ]
     },
     "execution_count": 1,
     "metadata": {},
     "output_type": "execute_result"
    }
   ],
   "source": [
    "# Python ≥3.5 is required\n",
    "import sys\n",
    "assert sys.version_info >= (3, 5)\n",
    "\n",
    "# Scikit-Learn ≥0.20 is \n",
    "import sklearn\n",
    "assert sklearn.__version__ >= \"0.20\"\n",
    "\n",
    "# Common imports\n",
    "import numpy as np\n",
    "import os\n",
    "\n",
    "from sklearn.metrics import accuracy_score, precision_score, recall_score, confusion_matrix, f1_score, roc_auc_score\n",
    "from sklearn.model_selection import cross_val_predict\n",
    "from sklearn.metrics import roc_curve\n",
    "from sklearn.model_selection import cross_val_score\n",
    "\n",
    "# to make this notebook's output stable across runs\n",
    "np.random.seed(42)\n",
    "\n",
    "# To plot pretty figures\n",
    "%matplotlib inline\n",
    "import matplotlib as mpl\n",
    "import matplotlib.pyplot as plt\n",
    "mpl.rc('axes', labelsize=14)\n",
    "mpl.rc('xtick', labelsize=12)\n",
    "mpl.rc('ytick', labelsize=12)\n",
    "\n",
    "#Load data\n",
    "import pandas as pd\n",
    "\n",
    "def load_wine_data():\n",
    "    csv_path = os.path.join(r\"C:\\Users\\Sam van Pomeren\\Desktop\\HWUK\\F21DL\", \"wine.csv\")\n",
    "    return pd.read_csv(csv_path)\n",
    "\n",
    "def score(Y_true, Y_pred):\n",
    "    conf_mat = confusion_matrix(Y_true, Y_pred)\n",
    "    acc_score = accuracy_score(Y_true, Y_pred)\n",
    "    prec_score = precision_score(Y_true, Y_pred, average=None, zero_division=1)\n",
    "    rec_score = recall_score(Y_true, Y_pred, average=None, zero_division=1)\n",
    "    F_score = f1_score(Y_true, Y_pred, average=None, zero_division=1)\n",
    "    \n",
    "    \n",
    "    print(conf_mat)\n",
    "    print(\"Accuracy score = \",acc_score)\n",
    "    print(\"Precision score = \",prec_score)\n",
    "    print(\"Recall score = \",rec_score)\n",
    "    print(\"F measure = \",F_score)\n",
    "    print(\" \")\n",
    "    return acc_score\n",
    "\n",
    "wine = load_wine_data()\n",
    "wine.describe()\n",
    "wine.info()\n",
    "\n",
    "Xtop7 = wine.iloc[:,[1, 10, 2, 9, 6, 7, 5]]  #Top 7 features\n",
    "X = wine.iloc[:,1:11]\n",
    "y = wine[\"quality\"]  \n",
    "score(y,y)\n",
    "wine.columns"
   ]
  },
  {
   "cell_type": "markdown",
   "id": "4f534075",
   "metadata": {},
   "source": [
    "## Data\n",
    "The table above shows the spreading of the samples around the classes. First a new data set will be made with each class having the same number of samples --> 6 classes of 10 samples."
   ]
  },
  {
   "cell_type": "code",
   "execution_count": 2,
   "id": "9436d7f0",
   "metadata": {},
   "outputs": [],
   "source": [
    "def create_new_dataset(n, rs, rep): # n = number of samples per dataset, rs = randomstate, rep = replace(True/False)\n",
    "    C3 = wine[wine[\"quality\"] == 3]\n",
    "    C4 = wine[wine[\"quality\"] == 4]\n",
    "    C5 = wine[wine[\"quality\"] == 5]\n",
    "    C6 = wine[wine[\"quality\"] == 6]\n",
    "    C7 = wine[wine[\"quality\"] == 7]\n",
    "    C8 = wine[wine[\"quality\"] == 8]\n",
    "\n",
    "    samp_C3 = C3.sample(n=n, replace=rep, random_state = rs, ignore_index=True)\n",
    "    samp_C4 = C4.sample(n=n, replace=rep, random_state = rs, ignore_index=True)\n",
    "    samp_C5 = C5.sample(n=n, replace=rep, random_state = rs, ignore_index=True)\n",
    "    samp_C6 = C6.sample(n=n, replace=rep, random_state = rs, ignore_index=True)\n",
    "    samp_C7 = C7.sample(n=n, replace=rep, random_state = rs, ignore_index=True)\n",
    "    samp_C8 = C8.sample(n=n, replace=rep, random_state = rs, ignore_index=True)\n",
    "\n",
    "    new_wine = pd.DataFrame(samp_C3, columns=wine.columns)\n",
    "    new_wine = new_wine.append(samp_C4, ignore_index=True)\n",
    "    new_wine = new_wine.append(samp_C5, ignore_index=True)\n",
    "    new_wine = new_wine.append(samp_C6, ignore_index=True)\n",
    "    new_wine = new_wine.append(samp_C7, ignore_index=True)\n",
    "    new_wine = new_wine.append(samp_C8, ignore_index=True)\n",
    "    return new_wine\n",
    "    \n",
    "new_wine = create_new_dataset(10, 2, False)"
   ]
  },
  {
   "cell_type": "code",
   "execution_count": 3,
   "id": "72eadb50",
   "metadata": {},
   "outputs": [
    {
     "data": {
      "text/plain": [
       "<bound method NDFrame.describe of     fixed acidity  volatile acidity  citric acid  residual sugar  chlorides  \\\n",
       "0             8.3             1.020         0.02            3.40      0.084   \n",
       "1            10.4             0.610         0.49            2.10      0.200   \n",
       "2             7.6             1.580         0.00            2.10      0.137   \n",
       "3            11.6             0.580         0.66            2.20      0.074   \n",
       "4             7.3             0.980         0.05            2.10      0.061   \n",
       "5             7.4             1.185         0.00            4.25      0.097   \n",
       "6            10.4             0.440         0.42            1.50      0.145   \n",
       "7             6.8             0.815         0.00            1.20      0.267   \n",
       "8             6.7             0.760         0.02            1.80      0.078   \n",
       "9             7.1             0.875         0.05            5.70      0.082   \n",
       "10            6.5             0.670         0.00            4.30      0.057   \n",
       "11            8.1             0.730         0.00            2.50      0.081   \n",
       "12            6.5             0.580         0.00            2.20      0.096   \n",
       "13            8.0             0.830         0.27            2.00      0.080   \n",
       "14            6.7             1.040         0.08            2.30      0.067   \n",
       "15            7.4             0.590         0.08            4.40      0.086   \n",
       "16           11.6             0.470         0.44            1.60      0.147   \n",
       "17            5.7             1.130         0.09            1.50      0.172   \n",
       "18            9.1             0.765         0.04            1.60      0.078   \n",
       "19            7.0             0.975         0.04            2.00      0.087   \n",
       "20            8.3             0.540         0.24            3.40      0.076   \n",
       "21            7.9             0.180         0.40            1.80      0.062   \n",
       "22            8.4             0.665         0.61            2.00      0.112   \n",
       "23            9.9             0.740         0.28            2.60      0.078   \n",
       "24           15.5             0.645         0.49            4.20      0.095   \n",
       "25            6.4             0.400         0.23            1.60      0.066   \n",
       "26            9.9             0.490         0.58            3.50      0.094   \n",
       "27            8.9             0.310         0.36            2.60      0.056   \n",
       "28            9.0             0.470         0.31            2.70      0.084   \n",
       "29            8.0             0.520         0.03            1.70      0.070   \n",
       "30            6.2             0.440         0.39            2.50      0.077   \n",
       "31            8.2             0.740         0.09            2.00      0.067   \n",
       "32            7.9             0.320         0.51            1.80      0.341   \n",
       "33            8.2             1.000         0.09            2.30      0.065   \n",
       "34           12.0             0.450         0.55            2.00      0.073   \n",
       "35            8.8             0.450         0.43            1.40      0.076   \n",
       "36            7.7             0.715         0.01            2.10      0.064   \n",
       "37            7.9             0.510         0.25            2.90      0.077   \n",
       "38            6.9             0.765         0.18            2.40      0.243   \n",
       "39           11.3             0.360         0.66            2.40      0.123   \n",
       "40           10.2             0.340         0.48            2.10      0.052   \n",
       "41           11.9             0.430         0.66            3.10      0.109   \n",
       "42            8.1             0.290         0.36            2.20      0.048   \n",
       "43            7.0             0.600         0.12            2.20      0.083   \n",
       "44            5.3             0.470         0.11            2.20      0.048   \n",
       "45            9.1             0.210         0.37            1.60      0.067   \n",
       "46           11.0             0.300         0.58            2.10      0.054   \n",
       "47           10.5             0.260         0.47            1.90      0.078   \n",
       "48           10.1             0.380         0.50            2.40      0.104   \n",
       "49            9.6             0.380         0.31            2.50      0.096   \n",
       "50            7.8             0.570         0.09            2.30      0.065   \n",
       "51           11.3             0.620         0.67            5.20      0.086   \n",
       "52            7.2             0.380         0.31            2.00      0.056   \n",
       "53            7.9             0.350         0.46            3.60      0.078   \n",
       "54            9.1             0.400         0.50            1.80      0.071   \n",
       "55            9.4             0.300         0.56            2.80      0.080   \n",
       "56           12.6             0.310         0.72            2.20      0.072   \n",
       "57           10.3             0.320         0.45            6.40      0.073   \n",
       "58            7.9             0.540         0.34            2.50      0.076   \n",
       "59           10.7             0.350         0.53            2.60      0.070   \n",
       "\n",
       "    free sulfur dioxide  total sulfur dioxide  density    pH  sulphates  \\\n",
       "0                   6.0                  11.0  0.99892  3.48       0.49   \n",
       "1                   5.0                  16.0  0.99940  3.16       0.63   \n",
       "2                   5.0                   9.0  0.99476  3.50       0.40   \n",
       "3                  10.0                  47.0  1.00080  3.25       0.57   \n",
       "4                  20.0                  49.0  0.99705  3.31       0.55   \n",
       "5                   5.0                  14.0  0.99660  3.63       0.54   \n",
       "6                  34.0                  48.0  0.99832  3.38       0.86   \n",
       "7                  16.0                  29.0  0.99471  3.32       0.51   \n",
       "8                   6.0                  12.0  0.99600  3.55       0.63   \n",
       "9                   3.0                  14.0  0.99808  3.40       0.52   \n",
       "10                 11.0                  20.0  0.99488  3.45       0.56   \n",
       "11                 12.0                  24.0  0.99798  3.38       0.46   \n",
       "12                  3.0                  13.0  0.99557  3.62       0.62   \n",
       "13                 11.0                  63.0  0.99652  3.29       0.48   \n",
       "14                 19.0                  32.0  0.99648  3.52       0.57   \n",
       "15                  6.0                  29.0  0.99740  3.38       0.50   \n",
       "16                 36.0                  51.0  0.99836  3.38       0.86   \n",
       "17                  7.0                  19.0  0.99400  3.50       0.48   \n",
       "18                  4.0                  14.0  0.99800  3.29       0.54   \n",
       "19                 12.0                  67.0  0.99565  3.35       0.60   \n",
       "20                 16.0                 112.0  0.99760  3.27       0.61   \n",
       "21                  7.0                  20.0  0.99410  3.28       0.70   \n",
       "22                 13.0                  95.0  0.99700  3.16       0.54   \n",
       "23                 21.0                  77.0  0.99800  3.28       0.51   \n",
       "24                 10.0                  23.0  1.00315  2.92       0.74   \n",
       "25                  5.0                  12.0  0.99580  3.34       0.56   \n",
       "26                  9.0                  43.0  1.00040  3.29       0.58   \n",
       "27                 10.0                  39.0  0.99562  3.40       0.69   \n",
       "28                 24.0                 125.0  0.99840  3.31       0.61   \n",
       "29                 10.0                  35.0  0.99575  3.34       0.57   \n",
       "30                  6.0                  14.0  0.99555  3.51       0.69   \n",
       "31                  5.0                  10.0  0.99418  3.28       0.57   \n",
       "32                 17.0                  56.0  0.99690  3.04       1.08   \n",
       "33                  7.0                  37.0  0.99685  3.32       0.55   \n",
       "34                 25.0                  49.0  0.99970  3.10       0.76   \n",
       "35                 12.0                  21.0  0.99551  3.21       0.75   \n",
       "36                 31.0                  43.0  0.99371  3.41       0.57   \n",
       "37                 21.0                  45.0  0.99740  3.49       0.96   \n",
       "38                  5.5                  48.0  0.99612  3.40       0.60   \n",
       "39                  3.0                   8.0  0.99642  3.20       0.53   \n",
       "40                  5.0                   9.0  0.99458  3.20       0.69   \n",
       "41                 10.0                  23.0  1.00000  3.15       0.85   \n",
       "42                 35.0                  53.0  0.99500  3.27       1.01   \n",
       "43                 13.0                  28.0  0.99660  3.52       0.62   \n",
       "44                 16.0                  89.0  0.99182  3.54       0.88   \n",
       "45                  6.0                  10.0  0.99552  3.23       0.58   \n",
       "46                  7.0                  19.0  0.99800  3.31       0.88   \n",
       "47                  6.0                  24.0  0.99760  3.18       1.04   \n",
       "48                  6.0                  13.0  0.99643  3.22       0.65   \n",
       "49                 16.0                  49.0  0.99820  3.19       0.70   \n",
       "50                 34.0                  45.0  0.99417  3.46       0.74   \n",
       "51                  6.0                  19.0  0.99880  3.22       0.69   \n",
       "52                 15.0                  29.0  0.99472  3.23       0.76   \n",
       "53                 15.0                  37.0  0.99730  3.35       0.86   \n",
       "54                  7.0                  16.0  0.99462  3.21       0.69   \n",
       "55                  6.0                  17.0  0.99640  3.15       0.92   \n",
       "56                  6.0                  29.0  0.99870  2.88       0.82   \n",
       "57                  5.0                  13.0  0.99760  3.23       0.82   \n",
       "58                  8.0                  17.0  0.99235  3.20       0.72   \n",
       "59                  5.0                  16.0  0.99720  3.15       0.65   \n",
       "\n",
       "    alcohol  quality  \n",
       "0     11.00        3  \n",
       "1      8.40        3  \n",
       "2     10.90        3  \n",
       "3      9.00        3  \n",
       "4      9.70        3  \n",
       "5     10.70        3  \n",
       "6      9.90        3  \n",
       "7      9.80        3  \n",
       "8      9.95        3  \n",
       "9     10.20        3  \n",
       "10    11.80        4  \n",
       "11     9.60        4  \n",
       "12    11.50        4  \n",
       "13     9.80        4  \n",
       "14    11.00        4  \n",
       "15     9.00        4  \n",
       "16     9.90        4  \n",
       "17     9.80        4  \n",
       "18     9.70        4  \n",
       "19     9.40        4  \n",
       "20     9.40        5  \n",
       "21    11.10        5  \n",
       "22     9.10        5  \n",
       "23     9.80        5  \n",
       "24    11.10        5  \n",
       "25     9.20        5  \n",
       "26     9.00        5  \n",
       "27    11.80        5  \n",
       "28     9.40        5  \n",
       "29    10.00        5  \n",
       "30    11.00        6  \n",
       "31    11.80        6  \n",
       "32     9.20        6  \n",
       "33     9.00        6  \n",
       "34    10.30        6  \n",
       "35    10.20        6  \n",
       "36    11.80        6  \n",
       "37    12.10        6  \n",
       "38    10.30        6  \n",
       "39    11.90        6  \n",
       "40    12.10        7  \n",
       "41    10.40        7  \n",
       "42    12.40        7  \n",
       "43    10.20        7  \n",
       "44    13.60        7  \n",
       "45    11.10        7  \n",
       "46    10.50        7  \n",
       "47    10.90        7  \n",
       "48    11.60        7  \n",
       "49    10.00        7  \n",
       "50    12.70        8  \n",
       "51    13.40        8  \n",
       "52    11.30        8  \n",
       "53    12.80        8  \n",
       "54    12.50        8  \n",
       "55    11.70        8  \n",
       "56     9.80        8  \n",
       "57    12.60        8  \n",
       "58    13.10        8  \n",
       "59    11.00        8  >"
      ]
     },
     "execution_count": 3,
     "metadata": {},
     "output_type": "execute_result"
    }
   ],
   "source": [
    "new_wine.describe"
   ]
  },
  {
   "cell_type": "code",
   "execution_count": 4,
   "id": "f82e338d",
   "metadata": {},
   "outputs": [
    {
     "name": "stdout",
     "output_type": "stream",
     "text": [
      "[[10  0  0  0  0  0]\n",
      " [ 0 10  0  0  0  0]\n",
      " [ 0  0 10  0  0  0]\n",
      " [ 0  0  0 10  0  0]\n",
      " [ 0  0  0  0 10  0]\n",
      " [ 0  0  0  0  0 10]]\n",
      "Accuracy score =  1.0\n",
      "Precision score =  [1. 1. 1. 1. 1. 1.]\n",
      "Recall score =  [1. 1. 1. 1. 1. 1.]\n",
      "F measure =  [1. 1. 1. 1. 1. 1.]\n",
      " \n"
     ]
    },
    {
     "data": {
      "text/plain": [
       "1.0"
      ]
     },
     "execution_count": 4,
     "metadata": {},
     "output_type": "execute_result"
    }
   ],
   "source": [
    "X_new_top7 = new_wine.iloc[:,[1, 10, 2, 9, 6, 7, 5]]  #Top 7 features\n",
    "X_new = new_wine.iloc[:,1:11]\n",
    "y_new = new_wine[\"quality\"]  \n",
    "score(y_new,y_new)"
   ]
  },
  {
   "cell_type": "markdown",
   "id": "3b4f5cb2",
   "metadata": {},
   "source": [
    "## Algorithms\n",
    "Using the algorithms that gave the best results we will now check if this even distribution causes the algorithms to make better predictions."
   ]
  },
  {
   "cell_type": "markdown",
   "id": "1b59c31e",
   "metadata": {},
   "source": [
    "### Decision trees"
   ]
  },
  {
   "cell_type": "code",
   "execution_count": 5,
   "id": "d8d5819b",
   "metadata": {},
   "outputs": [],
   "source": [
    "from sklearn.tree import DecisionTreeClassifier,plot_tree\n",
    "from sklearn.ensemble import RandomForestClassifier\n",
    "from sklearn.model_selection import train_test_split\n",
    "\n",
    "X_train, X_test, y_train, y_test = train_test_split(X_new, y_new, train_size=0.35, random_state=42)\n"
   ]
  },
  {
   "cell_type": "code",
   "execution_count": 6,
   "id": "d5758d97",
   "metadata": {},
   "outputs": [
    {
     "name": "stdout",
     "output_type": "stream",
     "text": [
      "Train\n",
      "[[3 0 0 0 0 0]\n",
      " [3 0 0 0 0 0]\n",
      " [2 0 4 0 0 0]\n",
      " [1 0 2 0 0 0]\n",
      " [0 0 4 0 0 0]\n",
      " [1 0 1 0 0 0]]\n",
      "Accuracy score =  0.3333333333333333\n",
      "Precision score =  [0.3        1.         0.36363636 1.         1.         1.        ]\n",
      "Recall score =  [1.         0.         0.66666667 0.         0.         0.        ]\n",
      "F measure =  [0.46153846 0.         0.47058824 0.         0.         0.        ]\n",
      " \n",
      " \n",
      "Test\n",
      "[[6 0 1 0 0 0]\n",
      " [6 0 1 0 0 0]\n",
      " [1 0 3 0 0 0]\n",
      " [3 0 4 0 0 0]\n",
      " [1 0 5 0 0 0]\n",
      " [0 0 8 0 0 0]]\n",
      "Accuracy score =  0.23076923076923078\n",
      "Precision score =  [0.35294118 1.         0.13636364 1.         1.         1.        ]\n",
      "Recall score =  [0.85714286 0.         0.75       0.         0.         0.        ]\n",
      "F measure =  [0.5        0.         0.23076923 0.         0.         0.        ]\n",
      " \n"
     ]
    },
    {
     "data": {
      "text/plain": [
       "0.23076923076923078"
      ]
     },
     "execution_count": 6,
     "metadata": {},
     "output_type": "execute_result"
    }
   ],
   "source": [
    "def Decision_Tree(X_train, X_test, y_train, y_test):\n",
    "    tree_dtc_clf = DecisionTreeClassifier(max_depth=10, random_state=42, criterion=\"gini\", min_samples_leaf=10)\n",
    "    tree_dtc_clf.fit(X_train, y_train)\n",
    "    y_pred_train_dtc = tree_dtc_clf.predict(X_train)\n",
    "    y_pred_test_dtc = tree_dtc_clf.predict(X_test)\n",
    "\n",
    "    print(\"Train\")\n",
    "    score(y_train,y_pred_train_dtc)\n",
    "    print(\" \")\n",
    "    print(\"Test\")\n",
    "    return score(y_test,y_pred_test_dtc)\n",
    "    \n",
    "Decision_Tree(X_train, X_test, y_train, y_test)"
   ]
  },
  {
   "cell_type": "code",
   "execution_count": 7,
   "id": "4bc33b61",
   "metadata": {},
   "outputs": [
    {
     "name": "stdout",
     "output_type": "stream",
     "text": [
      "Train\n",
      "[[0 0 3 0 0 0]\n",
      " [0 0 3 0 0 0]\n",
      " [0 0 6 0 0 0]\n",
      " [0 0 3 0 0 0]\n",
      " [0 0 4 0 0 0]\n",
      " [0 0 2 0 0 0]]\n",
      "Accuracy score =  0.2857142857142857\n",
      "Precision score =  [1.         1.         0.28571429 1.         1.         1.        ]\n",
      "Recall score =  [0. 0. 1. 0. 0. 0.]\n",
      "F measure =  [0.         0.         0.44444444 0.         0.         0.        ]\n",
      " \n",
      " \n",
      "Test\n",
      "[[0 0 7 0 0 0]\n",
      " [0 0 7 0 0 0]\n",
      " [0 0 4 0 0 0]\n",
      " [0 0 7 0 0 0]\n",
      " [0 0 6 0 0 0]\n",
      " [0 0 8 0 0 0]]\n",
      "Accuracy score =  0.10256410256410256\n",
      "Precision score =  [1.        1.        0.1025641 1.        1.        1.       ]\n",
      "Recall score =  [0. 0. 1. 0. 0. 0.]\n",
      "F measure =  [0.         0.         0.18604651 0.         0.         0.        ]\n",
      " \n"
     ]
    },
    {
     "data": {
      "text/plain": [
       "0.10256410256410256"
      ]
     },
     "execution_count": 7,
     "metadata": {},
     "output_type": "execute_result"
    }
   ],
   "source": [
    "def Random_forest(X_train, X_test, y_train, y_test):   \n",
    "    tree_rfc_clf = RandomForestClassifier(max_depth=10, random_state=42, criterion=\"gini\", min_samples_leaf=10)\n",
    "    tree_rfc_clf.fit(X_train, y_train)\n",
    "    y_pred_train_rfc = tree_rfc_clf.predict(X_train)\n",
    "    y_pred_test_rfc = tree_rfc_clf.predict(X_test)\n",
    "    print(\"Train\")\n",
    "    score(y_train,y_pred_train_rfc)\n",
    "    print(\" \")\n",
    "    print(\"Test\")\n",
    "    return(score(y_test,y_pred_test_rfc))\n",
    "    \n",
    "Random_forest(X_train, X_test, y_train, y_test)"
   ]
  },
  {
   "cell_type": "markdown",
   "id": "8b2e44b2",
   "metadata": {},
   "source": [
    "### Neural Networks"
   ]
  },
  {
   "cell_type": "code",
   "execution_count": 8,
   "id": "6dcd8901",
   "metadata": {},
   "outputs": [
    {
     "name": "stdout",
     "output_type": "stream",
     "text": [
      "Train\n",
      "[[3 0 0 0 0 0]\n",
      " [0 3 0 0 0 0]\n",
      " [0 0 5 1 0 0]\n",
      " [1 0 0 2 0 0]\n",
      " [0 0 0 0 4 0]\n",
      " [0 0 0 0 0 2]]\n",
      "Accuracy score =  0.9047619047619048\n",
      "Precision score =  [0.75       1.         1.         0.66666667 1.         1.        ]\n",
      "Recall score =  [1.         1.         0.83333333 0.66666667 1.         1.        ]\n",
      "F measure =  [0.85714286 1.         0.90909091 0.66666667 1.         1.        ]\n",
      " \n",
      " \n",
      "Test\n",
      "[[2 2 2 0 0 1]\n",
      " [1 2 2 1 0 1]\n",
      " [1 0 0 0 1 2]\n",
      " [0 1 1 2 3 0]\n",
      " [0 2 0 4 0 0]\n",
      " [0 0 0 2 5 1]]\n",
      "Accuracy score =  0.1794871794871795\n",
      "Precision score =  [0.5        0.28571429 0.         0.22222222 0.         0.2       ]\n",
      "Recall score =  [0.28571429 0.28571429 0.         0.28571429 0.         0.125     ]\n",
      "F measure =  [0.36363636 0.28571429 0.         0.25       0.         0.15384615]\n",
      " \n"
     ]
    },
    {
     "data": {
      "text/plain": [
       "0.1794871794871795"
      ]
     },
     "execution_count": 8,
     "metadata": {},
     "output_type": "execute_result"
    }
   ],
   "source": [
    "from sklearn.linear_model import LogisticRegression\n",
    "def Logistic_reg(X_train, X_test, y_train, y_test):\n",
    "    softmax_reg = LogisticRegression(multi_class=\"multinomial\",solver=\"lbfgs\", C=10, random_state=42, max_iter=10000)\n",
    "    softmax_reg.fit(X_train, y_train)\n",
    "\n",
    "    y_pred_train_nn = softmax_reg.predict(X_train)\n",
    "    y_pred_test_nn = softmax_reg.predict(X_test)\n",
    "    print(\"Train\")\n",
    "    score(y_train,y_pred_train_nn)\n",
    "    print(\" \")\n",
    "    print(\"Test\")\n",
    "    return(score(y_test,y_pred_test_nn))\n",
    "    \n",
    "Logistic_reg(X_train, X_test, y_train, y_test)"
   ]
  },
  {
   "cell_type": "code",
   "execution_count": 9,
   "id": "d7a75bc4",
   "metadata": {},
   "outputs": [
    {
     "name": "stdout",
     "output_type": "stream",
     "text": [
      "Train\n",
      "1.0\n",
      " \n",
      "Test\n"
     ]
    },
    {
     "data": {
      "text/plain": [
       "0.1794871794871795"
      ]
     },
     "execution_count": 9,
     "metadata": {},
     "output_type": "execute_result"
    }
   ],
   "source": [
    "from sklearn.neural_network import MLPClassifier\n",
    "def MLP_class(X_train, X_test, y_train, y_test):\n",
    "    mlp_clf = MLPClassifier(random_state=1, max_iter=10000, hidden_layer_sizes=20, activation=\"tanh\", learning_rate = \"constant\", momentum=0.9, validation_fraction=0.1)\n",
    "    mlp_clf.fit(X_train, y_train)\n",
    "    print(\"Train\")\n",
    "    print(mlp_clf.score(X_train, y_train))\n",
    "    print(\" \")\n",
    "    print(\"Test\")\n",
    "    return mlp_clf.score(X_test, y_test)\n",
    "MLP_class(X_train, X_test, y_train, y_test)"
   ]
  },
  {
   "cell_type": "code",
   "execution_count": 10,
   "id": "69d44a55",
   "metadata": {},
   "outputs": [],
   "source": [
    "def tests(X_train, X_test, y_train, y_test):\n",
    "    tests = [\"Decision Tree\",\"Random Forest\",\"Logistic Regression\",\"MLP classifier\"]\n",
    "    results = []\n",
    "    print(\"Decision Tree\")\n",
    "    results.append(Decision_Tree(X_train, X_test, y_train, y_test))\n",
    "    print(\"Random Forest\")\n",
    "    results.append(Random_forest(X_train, X_test, y_train, y_test))\n",
    "    print(\"Logistic Regression\")\n",
    "    results.append(Logistic_reg(X_train, X_test, y_train, y_test))\n",
    "    print(\"MLP classifier\")\n",
    "    results.append(MLP_class(X_train, X_test, y_train, y_test))\n",
    "    \n",
    "    plt.figure(figsize=(8, 3.5))\n",
    "    plt.plot(tests, results, \"bo-\")\n",
    "    plt.xlabel(\"Tests\", fontsize=14)\n",
    "    plt.ylabel(\"Accuracy\", fontsize=14)\n",
    "    plt.show()   "
   ]
  },
  {
   "cell_type": "markdown",
   "id": "00497ae5",
   "metadata": {},
   "source": [
    "### Conclusion 1\n",
    "This first test clearly shows there is not enough data to make decent predictions. To continue this reasearch and try to get better results. The following will be done: \n",
    "* Leave grade three out and try with 18 samples per class.\n",
    "* Increase the amount of samples by doubling certain samples.\n",
    "* Run through some random states"
   ]
  },
  {
   "cell_type": "markdown",
   "id": "9fa1848e",
   "metadata": {},
   "source": [
    "### Leave the samples graded with 3 out, so every other class can have 18 samples.\n"
   ]
  },
  {
   "cell_type": "code",
   "execution_count": 11,
   "id": "3b1c59fd",
   "metadata": {},
   "outputs": [
    {
     "name": "stdout",
     "output_type": "stream",
     "text": [
      "[[18  0  0  0  0]\n",
      " [ 0 18  0  0  0]\n",
      " [ 0  0 18  0  0]\n",
      " [ 0  0  0 18  0]\n",
      " [ 0  0  0  0 18]]\n",
      "Accuracy score =  1.0\n",
      "Precision score =  [1. 1. 1. 1. 1.]\n",
      "Recall score =  [1. 1. 1. 1. 1.]\n",
      "F measure =  [1. 1. 1. 1. 1.]\n",
      " \n"
     ]
    },
    {
     "data": {
      "text/plain": [
       "1.0"
      ]
     },
     "execution_count": 11,
     "metadata": {},
     "output_type": "execute_result"
    }
   ],
   "source": [
    "def create_new_dataset_without_3(n, rs, rep): # n = number of samples per dataset, rs = randomstate, rep = replace(True/False)\n",
    "    #C3 = wine[wine[\"quality\"] == 3]\n",
    "    C4 = wine[wine[\"quality\"] == 4]\n",
    "    C5 = wine[wine[\"quality\"] == 5]\n",
    "    C6 = wine[wine[\"quality\"] == 6]\n",
    "    C7 = wine[wine[\"quality\"] == 7]\n",
    "    C8 = wine[wine[\"quality\"] == 8]\n",
    "\n",
    "    #samp_C3 = C3.sample(n=n, replace=rep, random_state = rs, ignore_index=True)\n",
    "    samp_C4 = C4.sample(n=n, replace=rep, random_state = rs, ignore_index=True)\n",
    "    samp_C5 = C5.sample(n=n, replace=rep, random_state = rs, ignore_index=True)\n",
    "    samp_C6 = C6.sample(n=n, replace=rep, random_state = rs, ignore_index=True)\n",
    "    samp_C7 = C7.sample(n=n, replace=rep, random_state = rs, ignore_index=True)\n",
    "    samp_C8 = C8.sample(n=n, replace=rep, random_state = rs, ignore_index=True)\n",
    "\n",
    "    new_wine = pd.DataFrame(samp_C4, columns=wine.columns)\n",
    "    #new_wine = new_wine.append(samp_C4, ignore_index=True)\n",
    "    new_wine = new_wine.append(samp_C5, ignore_index=True)\n",
    "    new_wine = new_wine.append(samp_C6, ignore_index=True)\n",
    "    new_wine = new_wine.append(samp_C7, ignore_index=True)\n",
    "    new_wine = new_wine.append(samp_C8, ignore_index=True)\n",
    "    return new_wine\n",
    "    \n",
    "new_wine_without_3 = create_new_dataset_without_3(18, 2, False)\n",
    "X_new_top7_without_3 = new_wine_without_3.iloc[:,[1, 10, 2, 9, 6, 7, 5]]  #Top 7 features\n",
    "X_new_without_3 = new_wine_without_3.iloc[:,1:11]\n",
    "y_new_without_3 = new_wine_without_3[\"quality\"]  \n",
    "score(y_new_without_3,y_new_without_3)"
   ]
  },
  {
   "cell_type": "code",
   "execution_count": 12,
   "id": "12d23ec2",
   "metadata": {},
   "outputs": [
    {
     "name": "stdout",
     "output_type": "stream",
     "text": [
      "Decision Tree\n",
      "Train\n",
      "[[4 0 0 0 0]\n",
      " [4 0 0 0 1]\n",
      " [3 0 0 0 4]\n",
      " [2 0 0 0 5]\n",
      " [0 0 0 0 8]]\n",
      "Accuracy score =  0.3870967741935484\n",
      "Precision score =  [0.30769231 1.         1.         1.         0.44444444]\n",
      "Recall score =  [1. 0. 0. 0. 1.]\n",
      "F measure =  [0.47058824 0.         0.         0.         0.61538462]\n",
      " \n",
      " \n",
      "Test\n",
      "[[12  0  0  0  2]\n",
      " [ 9  0  0  0  4]\n",
      " [ 7  0  0  0  4]\n",
      " [ 1  0  0  0 10]\n",
      " [ 1  0  0  0  9]]\n",
      "Accuracy score =  0.3559322033898305\n",
      "Precision score =  [0.4        1.         1.         1.         0.31034483]\n",
      "Recall score =  [0.85714286 0.         0.         0.         0.9       ]\n",
      "F measure =  [0.54545455 0.         0.         0.         0.46153846]\n",
      " \n",
      "Random Forest\n",
      "Train\n",
      "[[0 0 1 2 1]\n",
      " [0 0 0 3 2]\n",
      " [0 0 2 1 4]\n",
      " [0 0 0 3 4]\n",
      " [0 0 0 0 8]]\n",
      "Accuracy score =  0.41935483870967744\n",
      "Precision score =  [1.         1.         0.66666667 0.33333333 0.42105263]\n",
      "Recall score =  [0.         0.         0.28571429 0.42857143 1.        ]\n",
      "F measure =  [0.         0.         0.4        0.375      0.59259259]\n",
      " \n",
      " \n",
      "Test\n",
      "[[ 0  0  5  4  5]\n",
      " [ 0  0  1  6  6]\n",
      " [ 0  0  1  3  7]\n",
      " [ 0  0  0  5  6]\n",
      " [ 0  0  0  0 10]]\n",
      "Accuracy score =  0.2711864406779661\n",
      "Precision score =  [1.         1.         0.14285714 0.27777778 0.29411765]\n",
      "Recall score =  [0.         0.         0.09090909 0.45454545 1.        ]\n",
      "F measure =  [0.         0.         0.11111111 0.34482759 0.45454545]\n",
      " \n",
      "Logistic Regression\n",
      "Train\n",
      "[[4 0 0 0 0]\n",
      " [1 4 0 0 0]\n",
      " [0 0 5 2 0]\n",
      " [0 0 2 4 1]\n",
      " [0 0 0 2 6]]\n",
      "Accuracy score =  0.7419354838709677\n",
      "Precision score =  [0.8        1.         0.71428571 0.5        0.85714286]\n",
      "Recall score =  [1.         0.8        0.71428571 0.57142857 0.75      ]\n",
      "F measure =  [0.88888889 0.88888889 0.71428571 0.53333333 0.8       ]\n",
      " \n",
      " \n",
      "Test\n",
      "[[6 8 0 0 0]\n",
      " [0 8 0 3 2]\n",
      " [0 4 1 4 2]\n",
      " [0 0 0 4 7]\n",
      " [0 0 2 1 7]]\n",
      "Accuracy score =  0.4406779661016949\n",
      "Precision score =  [1.         0.4        0.33333333 0.33333333 0.38888889]\n",
      "Recall score =  [0.42857143 0.61538462 0.09090909 0.36363636 0.7       ]\n",
      "F measure =  [0.6        0.48484848 0.14285714 0.34782609 0.5       ]\n",
      " \n",
      "MLP classifier\n",
      "Train\n",
      "1.0\n",
      " \n",
      "Test\n"
     ]
    },
    {
     "data": {
      "image/png": "[encoded data removed]",
      "text/plain": [
       "<Figure size 576x252 with 1 Axes>"
      ]
     },
     "metadata": {
      "needs_background": "light"
     },
     "output_type": "display_data"
    }
   ],
   "source": [
    "X_train_w3, X_test_w3, y_train_w3, y_test_w3 = train_test_split(X_new_without_3, y_new_without_3, train_size=0.35, random_state=42)\n",
    "tests(X_train_w3, X_test_w3, y_train_w3, y_test_w3)"
   ]
  },
  {
   "cell_type": "code",
   "execution_count": 13,
   "id": "832bb522",
   "metadata": {},
   "outputs": [
    {
     "name": "stdout",
     "output_type": "stream",
     "text": [
      "Decision Tree\n",
      "Train\n",
      "[[4 0 0 0 0]\n",
      " [4 0 0 0 1]\n",
      " [3 0 0 0 4]\n",
      " [2 0 0 0 5]\n",
      " [0 0 0 0 8]]\n",
      "Accuracy score =  0.3870967741935484\n",
      "Precision score =  [0.30769231 1.         1.         1.         0.44444444]\n",
      "Recall score =  [1. 0. 0. 0. 1.]\n",
      "F measure =  [0.47058824 0.         0.         0.         0.61538462]\n",
      " \n",
      " \n",
      "Test\n",
      "[[12  0  0  0  2]\n",
      " [ 9  0  0  0  4]\n",
      " [ 7  0  0  0  4]\n",
      " [ 1  0  0  0 10]\n",
      " [ 1  0  0  0  9]]\n",
      "Accuracy score =  0.3559322033898305\n",
      "Precision score =  [0.4        1.         1.         1.         0.31034483]\n",
      "Recall score =  [0.85714286 0.         0.         0.         0.9       ]\n",
      "F measure =  [0.54545455 0.         0.         0.         0.46153846]\n",
      " \n",
      "Random Forest\n",
      "Train\n",
      "[[0 2 0 0 2]\n",
      " [0 3 0 2 0]\n",
      " [0 0 0 0 7]\n",
      " [0 1 0 2 4]\n",
      " [0 0 0 1 7]]\n",
      "Accuracy score =  0.3870967741935484\n",
      "Precision score =  [1.   0.5  1.   0.4  0.35]\n",
      "Recall score =  [0.         0.6        0.         0.28571429 0.875     ]\n",
      "F measure =  [0.         0.54545455 0.         0.33333333 0.5       ]\n",
      " \n",
      " \n",
      "Test\n",
      "[[ 0  5  5  1  3]\n",
      " [ 0  4  1  3  5]\n",
      " [ 0  1  2  1  7]\n",
      " [ 0  0  0  1 10]\n",
      " [ 0  0  0  1  9]]\n",
      "Accuracy score =  0.2711864406779661\n",
      "Precision score =  [1.         0.4        0.25       0.14285714 0.26470588]\n",
      "Recall score =  [0.         0.30769231 0.18181818 0.09090909 0.9       ]\n",
      "F measure =  [0.         0.34782609 0.21052632 0.11111111 0.40909091]\n",
      " \n",
      "Logistic Regression\n",
      "Train\n",
      "[[3 1 0 0 0]\n",
      " [1 4 0 0 0]\n",
      " [1 0 4 2 0]\n",
      " [0 0 2 3 2]\n",
      " [0 0 0 2 6]]\n",
      "Accuracy score =  0.6451612903225806\n",
      "Precision score =  [0.6        0.8        0.66666667 0.42857143 0.75      ]\n",
      "Recall score =  [0.75       0.8        0.57142857 0.42857143 0.75      ]\n",
      "F measure =  [0.66666667 0.8        0.61538462 0.42857143 0.75      ]\n",
      " \n",
      " \n",
      "Test\n",
      "[[6 6 2 0 0]\n",
      " [0 8 0 3 2]\n",
      " [0 3 2 4 2]\n",
      " [0 2 1 1 7]\n",
      " [0 0 1 2 7]]\n",
      "Accuracy score =  0.4067796610169492\n",
      "Precision score =  [1.         0.42105263 0.33333333 0.1        0.38888889]\n",
      "Recall score =  [0.42857143 0.61538462 0.18181818 0.09090909 0.7       ]\n",
      "F measure =  [0.6        0.5        0.23529412 0.0952381  0.5       ]\n",
      " \n",
      "MLP classifier\n",
      "Train\n",
      "1.0\n",
      " \n",
      "Test\n"
     ]
    },
    {
     "data": {
      "image/png": "[encoded data removed]",
      "text/plain": [
       "<Figure size 576x252 with 1 Axes>"
      ]
     },
     "metadata": {
      "needs_background": "light"
     },
     "output_type": "display_data"
    }
   ],
   "source": [
    "X_train_top_w3, X_test_top_w3, y_train_top_w3, y_test_top_w3 = train_test_split(X_new_top7_without_3, y_new_without_3, train_size=0.35, random_state=42)\n",
    "tests(X_train_top_w3, X_test_top_w3, y_train_top_w3, y_test_top_w3)"
   ]
  },
  {
   "cell_type": "markdown",
   "id": "60d40071",
   "metadata": {},
   "source": [
    "### Conclusion 2\n",
    "This second test gave interesting results, the accuracy was already a lot higher than in the first test. Logistic regression worked the best in this case, together with using all input parameters it got to 44%. This is a great score considering we are only using 18 samples per class. As can be seen in the confusion matrix the classes are predicted quite and the outer classes are very much in the game."
   ]
  },
  {
   "cell_type": "markdown",
   "id": "0013334a",
   "metadata": {},
   "source": [
    "### Get more samples per class by duplicating some samples in the classes with fewer samples"
   ]
  },
  {
   "cell_type": "code",
   "execution_count": 14,
   "id": "63346d2c",
   "metadata": {},
   "outputs": [
    {
     "name": "stdout",
     "output_type": "stream",
     "text": [
      "[[53  0  0  0  0  0]\n",
      " [ 0 53  0  0  0  0]\n",
      " [ 0  0 53  0  0  0]\n",
      " [ 0  0  0 53  0  0]\n",
      " [ 0  0  0  0 53  0]\n",
      " [ 0  0  0  0  0 53]]\n",
      "Accuracy score =  1.0\n",
      "Precision score =  [1. 1. 1. 1. 1. 1.]\n",
      "Recall score =  [1. 1. 1. 1. 1. 1.]\n",
      "F measure =  [1. 1. 1. 1. 1. 1.]\n",
      " \n"
     ]
    },
    {
     "data": {
      "text/plain": [
       "1.0"
      ]
     },
     "execution_count": 14,
     "metadata": {},
     "output_type": "execute_result"
    }
   ],
   "source": [
    "new_wine_53 = create_new_dataset(53, 2, True)\n",
    "X_new_top7_53 = new_wine_53.iloc[:,[1, 10, 2, 9, 6, 7, 5]]  #Top 7 features\n",
    "X_new_53 = new_wine_53.iloc[:,1:11]\n",
    "y_new_53 = new_wine_53[\"quality\"]  \n",
    "score(y_new_53,y_new_53)"
   ]
  },
  {
   "cell_type": "code",
   "execution_count": 15,
   "id": "7d14ee00",
   "metadata": {},
   "outputs": [
    {
     "name": "stdout",
     "output_type": "stream",
     "text": [
      "Decision Tree\n",
      "Train\n",
      "[[18  1  0  2  0  0]\n",
      " [ 6  7  1  4  0  0]\n",
      " [ 0  2  8  5  0  0]\n",
      " [ 1  2  0  8  3  3]\n",
      " [ 0  0  0  6  7  8]\n",
      " [ 0  0  1  0  0 18]]\n",
      "Accuracy score =  0.5945945945945946\n",
      "Precision score =  [0.72       0.58333333 0.8        0.32       0.7        0.62068966]\n",
      "Recall score =  [0.85714286 0.38888889 0.53333333 0.47058824 0.33333333 0.94736842]\n",
      "F measure =  [0.7826087  0.46666667 0.64       0.38095238 0.4516129  0.75      ]\n",
      " \n",
      " \n",
      "Test\n",
      "[[24  5  0  3  0  0]\n",
      " [11 13  4  4  2  1]\n",
      " [ 5  8 11  8  6  0]\n",
      " [ 2  3  6 11  7  7]\n",
      " [ 0  1  1 10  7 13]\n",
      " [ 0  0  4  0  3 27]]\n",
      "Accuracy score =  0.4492753623188406\n",
      "Precision score =  [0.57142857 0.43333333 0.42307692 0.30555556 0.28       0.5625    ]\n",
      "Recall score =  [0.75       0.37142857 0.28947368 0.30555556 0.21875    0.79411765]\n",
      "F measure =  [0.64864865 0.4        0.34375    0.30555556 0.24561404 0.65853659]\n",
      " \n",
      "Random Forest\n",
      "Train\n",
      "[[19  0  2  0  0  0]\n",
      " [ 8  6  3  1  0  0]\n",
      " [ 0  2 12  0  1  0]\n",
      " [ 1  1  0  5  7  3]\n",
      " [ 1  0  1  0 12  7]\n",
      " [ 0  0  0  0  1 18]]\n",
      "Accuracy score =  0.6486486486486487\n",
      "Precision score =  [0.65517241 0.66666667 0.66666667 0.83333333 0.57142857 0.64285714]\n",
      "Recall score =  [0.9047619  0.33333333 0.8        0.29411765 0.57142857 0.94736842]\n",
      "F measure =  [0.76       0.44444444 0.72727273 0.43478261 0.57142857 0.76595745]\n",
      " \n",
      " \n",
      "Test\n",
      "[[31  0  1  0  0  0]\n",
      " [14  8  4  4  4  1]\n",
      " [ 8  6 10  3  7  4]\n",
      " [ 1  5  9  5 11  5]\n",
      " [ 0  1  1  1 15 14]\n",
      " [ 0  0  0  0  7 27]]\n",
      "Accuracy score =  0.463768115942029\n",
      "Precision score =  [0.57407407 0.4        0.4        0.38461538 0.34090909 0.52941176]\n",
      "Recall score =  [0.96875    0.22857143 0.26315789 0.13888889 0.46875    0.79411765]\n",
      "F measure =  [0.72093023 0.29090909 0.31746032 0.20408163 0.39473684 0.63529412]\n",
      " \n",
      "Logistic Regression\n",
      "Train\n",
      "[[20  1  0  0  0  0]\n",
      " [ 6  8  2  2  0  0]\n",
      " [ 1  4  8  2  0  0]\n",
      " [ 0  2  2  7  5  1]\n",
      " [ 0  1  1  2 10  7]\n",
      " [ 0  0  0  1  6 12]]\n",
      "Accuracy score =  0.5855855855855856\n",
      "Precision score =  [0.74074074 0.5        0.61538462 0.5        0.47619048 0.6       ]\n",
      "Recall score =  [0.95238095 0.44444444 0.53333333 0.41176471 0.47619048 0.63157895]\n",
      "F measure =  [0.83333333 0.47058824 0.57142857 0.4516129  0.47619048 0.61538462]\n",
      " \n",
      " \n",
      "Test\n",
      "[[27  5  0  0  0  0]\n",
      " [10 10  7  6  2  0]\n",
      " [ 5  5 16  4  5  3]\n",
      " [ 5  5  6  9  7  4]\n",
      " [ 0  1  2  5 16  8]\n",
      " [ 0  0  0  3 13 18]]\n",
      "Accuracy score =  0.463768115942029\n",
      "Precision score =  [0.57446809 0.38461538 0.51612903 0.33333333 0.37209302 0.54545455]\n",
      "Recall score =  [0.84375    0.28571429 0.42105263 0.25       0.5        0.52941176]\n",
      "F measure =  [0.6835443  0.32786885 0.46376812 0.28571429 0.42666667 0.53731343]\n",
      " \n",
      "MLP classifier\n",
      "Train\n",
      "0.954954954954955\n",
      " \n",
      "Test\n"
     ]
    },
    {
     "data": {
      "image/png": "[encoded data removed]",
      "text/plain": [
       "<Figure size 576x252 with 1 Axes>"
      ]
     },
     "metadata": {
      "needs_background": "light"
     },
     "output_type": "display_data"
    }
   ],
   "source": [
    "X_train_53, X_test_53, y_train_53, y_test_53 = train_test_split(X_new_53, y_new_53, train_size=0.35, random_state=42)\n",
    "tests(X_train_53, X_test_53, y_train_53, y_test_53)"
   ]
  },
  {
   "cell_type": "code",
   "execution_count": 16,
   "id": "6f591646",
   "metadata": {},
   "outputs": [
    {
     "name": "stdout",
     "output_type": "stream",
     "text": [
      "[[200   0   0   0   0   0]\n",
      " [  0 200   0   0   0   0]\n",
      " [  0   0 200   0   0   0]\n",
      " [  0   0   0 200   0   0]\n",
      " [  0   0   0   0 200   0]\n",
      " [  0   0   0   0   0 200]]\n",
      "Accuracy score =  1.0\n",
      "Precision score =  [1. 1. 1. 1. 1. 1.]\n",
      "Recall score =  [1. 1. 1. 1. 1. 1.]\n",
      "F measure =  [1. 1. 1. 1. 1. 1.]\n",
      " \n"
     ]
    },
    {
     "data": {
      "text/plain": [
       "1.0"
      ]
     },
     "execution_count": 16,
     "metadata": {},
     "output_type": "execute_result"
    }
   ],
   "source": [
    "new_wine_200 = create_new_dataset(200, 2, True)\n",
    "X_new_top7_200 = new_wine_200.iloc[:,[1, 10, 2, 9, 6, 7, 5]]  #Top 7 features\n",
    "X_new_200 = new_wine_200.iloc[:,1:11]\n",
    "y_new_200 = new_wine_200[\"quality\"]  \n",
    "score(y_new_200,y_new_200)"
   ]
  },
  {
   "cell_type": "code",
   "execution_count": 17,
   "id": "704f7e4d",
   "metadata": {},
   "outputs": [
    {
     "name": "stdout",
     "output_type": "stream",
     "text": [
      "Decision Tree\n",
      "Train\n",
      "[[67  4  0  0  0  0]\n",
      " [ 6 43  5  4  3  0]\n",
      " [ 5  3 38  9  1  1]\n",
      " [ 1 12  9 40  7  9]\n",
      " [ 2  7  5  5 45  9]\n",
      " [ 7  0  4  1  3 65]]\n",
      "Accuracy score =  0.7095238095238096\n",
      "Precision score =  [0.76136364 0.62318841 0.62295082 0.6779661  0.76271186 0.77380952]\n",
      "Recall score =  [0.94366197 0.70491803 0.66666667 0.51282051 0.61643836 0.8125    ]\n",
      "F measure =  [0.8427673  0.66153846 0.6440678  0.58394161 0.68181818 0.79268293]\n",
      " \n",
      " \n",
      "Test\n",
      "[[116  13   0   0   0   0]\n",
      " [ 28  72  21  13   5   0]\n",
      " [ 16  31  49  41   5   1]\n",
      " [  8  12  29  37  21  15]\n",
      " [  3  24   9  13  52  26]\n",
      " [  7   0  11   3   5  94]]\n",
      "Accuracy score =  0.5384615384615384\n",
      "Precision score =  [0.65168539 0.47368421 0.41176471 0.34579439 0.59090909 0.69117647]\n",
      "Recall score =  [0.89922481 0.51798561 0.34265734 0.30327869 0.40944882 0.78333333]\n",
      "F measure =  [0.75570033 0.49484536 0.3740458  0.3231441  0.48372093 0.734375  ]\n",
      " \n",
      "Random Forest\n",
      "Train\n",
      "[[71  0  0  0  0  0]\n",
      " [ 6 48  2  1  4  0]\n",
      " [ 2  4 39  9  1  2]\n",
      " [ 2  4  6 51  9  6]\n",
      " [ 1  1  1  7 54  9]\n",
      " [ 0  0  0  1  3 76]]\n",
      "Accuracy score =  0.8071428571428572\n",
      "Precision score =  [0.86585366 0.84210526 0.8125     0.73913043 0.76056338 0.8172043 ]\n",
      "Recall score =  [1.         0.78688525 0.68421053 0.65384615 0.73972603 0.95      ]\n",
      "F measure =  [0.92810458 0.81355932 0.74285714 0.69387755 0.75       0.87861272]\n",
      " \n",
      " \n",
      "Test\n",
      "[[129   0   0   0   0   0]\n",
      " [ 26  86   8   9  10   0]\n",
      " [  7  23  69  36   6   2]\n",
      " [  5  11  14  54  31   7]\n",
      " [  1   5   3  11  75  32]\n",
      " [  0   0   0   3   5 112]]\n",
      "Accuracy score =  0.6730769230769231\n",
      "Precision score =  [0.76785714 0.688      0.73404255 0.47787611 0.59055118 0.73202614]\n",
      "Recall score =  [1.         0.61870504 0.48251748 0.44262295 0.59055118 0.93333333]\n",
      "F measure =  [0.86868687 0.65151515 0.58227848 0.45957447 0.59055118 0.82051282]\n",
      " \n",
      "Logistic Regression\n",
      "Train\n",
      "[[71  0  0  0  0  0]\n",
      " [12 27 12  8  2  0]\n",
      " [ 6 13 22 11  3  2]\n",
      " [ 5  7 14 28 12 12]\n",
      " [ 1  1  1 10 25 35]\n",
      " [ 0  0  0  7 13 60]]\n",
      "Accuracy score =  0.5547619047619048\n",
      "Precision score =  [0.74736842 0.5625     0.44897959 0.4375     0.45454545 0.55045872]\n",
      "Recall score =  [1.         0.44262295 0.38596491 0.35897436 0.34246575 0.75      ]\n",
      "F measure =  [0.85542169 0.49541284 0.41509434 0.3943662  0.390625   0.63492063]\n",
      " \n",
      " \n",
      "Test\n",
      "[[129   0   0   0   0   0]\n",
      " [ 34  47  27  27   1   3]\n",
      " [ 20  23  49  40   2   9]\n",
      " [  5  11  13  53  19  21]\n",
      " [  4   9   2  18  37  57]\n",
      " [  0   0   0   7  23  90]]\n",
      "Accuracy score =  0.5192307692307693\n",
      "Precision score =  [0.671875   0.52222222 0.53846154 0.36551724 0.45121951 0.5       ]\n",
      "Recall score =  [1.         0.3381295  0.34265734 0.43442623 0.29133858 0.75      ]\n",
      "F measure =  [0.80373832 0.41048035 0.41880342 0.39700375 0.35406699 0.6       ]\n",
      " \n",
      "MLP classifier\n",
      "Train\n",
      "0.65\n",
      " \n",
      "Test\n"
     ]
    },
    {
     "data": {
      "image/png": "[encoded data removed]",
      "text/plain": [
       "<Figure size 576x252 with 1 Axes>"
      ]
     },
     "metadata": {
      "needs_background": "light"
     },
     "output_type": "display_data"
    }
   ],
   "source": [
    "X_train_200, X_test_200, y_train_200, y_test_200 = train_test_split(X_new_200, y_new_200, train_size=0.35, random_state=42)\n",
    "tests(X_train_200, X_test_200, y_train_200, y_test_200)"
   ]
  },
  {
   "cell_type": "markdown",
   "id": "be7a027d",
   "metadata": {},
   "source": [
    "### Conclusion 3\n",
    "Increasing the amount of samples did really increase the accuracy as can be seen above. Though this way of creating the data set does feel a bit like cheating because the algorithm will predict samples that it has already seen before. When splitting data before creating a dataset you would however get fewer different samples in the dataset, which in these would defenitely cause overfitting. Another interesting discovery is the changing of the most effective algorithm for the different dataset formats and sizes, some big differences as well."
   ]
  },
  {
   "cell_type": "markdown",
   "id": "e689c172",
   "metadata": {},
   "source": [
    "### Vary the random_state when creating the data set\n",
    "Changing the random_state in the dataset without class 3, so with 18 samples. This gave the best score in the fairest dataset split-up."
   ]
  },
  {
   "cell_type": "code",
   "execution_count": 18,
   "id": "a857616a",
   "metadata": {},
   "outputs": [
    {
     "name": "stdout",
     "output_type": "stream",
     "text": [
      "100\n",
      "Decision Tree\n",
      "Train\n",
      "[[0 0 4 0 0]\n",
      " [0 0 2 0 3]\n",
      " [0 0 7 0 0]\n",
      " [0 0 1 0 6]\n",
      " [0 0 0 0 8]]\n",
      "Accuracy score =  0.4838709677419355\n",
      "Precision score =  [1.         1.         0.5        1.         0.47058824]\n",
      "Recall score =  [0. 0. 1. 0. 1.]\n",
      "F measure =  [0.         0.         0.66666667 0.         0.64      ]\n",
      " \n",
      " \n",
      "Test\n",
      "[[ 0  0 12  0  2]\n",
      " [ 0  0 10  0  3]\n",
      " [ 0  0  6  0  5]\n",
      " [ 0  0  3  0  8]\n",
      " [ 0  0  3  0  7]]\n",
      "Accuracy score =  0.22033898305084745\n",
      "Precision score =  [1.         1.         0.17647059 1.         0.28      ]\n",
      "Recall score =  [0.         0.         0.54545455 0.         0.7       ]\n",
      "F measure =  [0.         0.         0.26666667 0.         0.4       ]\n",
      " \n",
      "Random Forest\n",
      "Train\n",
      "[[0 0 3 0 1]\n",
      " [0 0 2 1 2]\n",
      " [0 0 1 2 4]\n",
      " [0 0 0 3 4]\n",
      " [0 0 0 1 7]]\n",
      "Accuracy score =  0.3548387096774194\n",
      "Precision score =  [1.         1.         0.16666667 0.42857143 0.38888889]\n",
      "Recall score =  [0.         0.         0.14285714 0.42857143 0.875     ]\n",
      "F measure =  [0.         0.         0.15384615 0.42857143 0.53846154]\n",
      " \n",
      " \n",
      "Test\n",
      "[[0 0 8 2 4]\n",
      " [0 0 7 2 4]\n",
      " [0 0 2 2 7]\n",
      " [0 0 1 3 7]\n",
      " [0 0 0 3 7]]\n",
      "Accuracy score =  0.2033898305084746\n",
      "Precision score =  [1.         1.         0.11111111 0.25       0.24137931]\n",
      "Recall score =  [0.         0.         0.18181818 0.27272727 0.7       ]\n",
      "F measure =  [0.         0.         0.13793103 0.26086957 0.35897436]\n",
      " \n",
      "Logistic Regression\n",
      "Train\n",
      "[[4 0 0 0 0]\n",
      " [1 3 1 0 0]\n",
      " [1 1 3 0 2]\n",
      " [0 0 0 5 2]\n",
      " [0 0 1 0 7]]\n",
      "Accuracy score =  0.7096774193548387\n",
      "Precision score =  [0.66666667 0.75       0.6        1.         0.63636364]\n",
      "Recall score =  [1.         0.6        0.42857143 0.71428571 0.875     ]\n",
      "F measure =  [0.8        0.66666667 0.5        0.83333333 0.73684211]\n",
      " \n",
      " \n",
      "Test\n",
      "[[3 2 7 2 0]\n",
      " [0 7 5 0 1]\n",
      " [0 3 3 2 3]\n",
      " [0 0 2 1 8]\n",
      " [0 0 3 2 5]]\n",
      "Accuracy score =  0.3220338983050847\n",
      "Precision score =  [1.         0.58333333 0.15       0.14285714 0.29411765]\n",
      "Recall score =  [0.21428571 0.53846154 0.27272727 0.09090909 0.5       ]\n",
      "F measure =  [0.35294118 0.56       0.19354839 0.11111111 0.37037037]\n",
      " \n",
      "MLP classifier\n",
      "Train\n",
      "0.9354838709677419\n",
      " \n",
      "Test\n"
     ]
    },
    {
     "data": {
      "image/png": "[encoded data removed]",
      "text/plain": [
       "<Figure size 576x252 with 1 Axes>"
      ]
     },
     "metadata": {
      "needs_background": "light"
     },
     "output_type": "display_data"
    },
    {
     "name": "stdout",
     "output_type": "stream",
     "text": [
      "97\n",
      "Decision Tree\n",
      "Train\n",
      "[[0 4 0 0 0]\n",
      " [0 5 0 0 0]\n",
      " [0 5 0 0 2]\n",
      " [0 0 0 0 7]\n",
      " [0 0 0 0 8]]\n",
      "Accuracy score =  0.41935483870967744\n",
      "Precision score =  [1.         0.35714286 1.         1.         0.47058824]\n",
      "Recall score =  [0. 1. 0. 0. 1.]\n",
      "F measure =  [0.         0.52631579 0.         0.         0.64      ]\n",
      " \n",
      " \n",
      "Test\n",
      "[[ 0 12  0  0  2]\n",
      " [ 0  6  0  0  7]\n",
      " [ 0  7  0  0  4]\n",
      " [ 0  0  0  0 11]\n",
      " [ 0  0  0  0 10]]\n",
      "Accuracy score =  0.2711864406779661\n",
      "Precision score =  [1.         0.24       1.         1.         0.29411765]\n",
      "Recall score =  [0.         0.46153846 0.         0.         1.        ]\n",
      "F measure =  [0.         0.31578947 0.         0.         0.45454545]\n",
      " \n",
      "Random Forest\n",
      "Train\n",
      "[[0 0 2 0 2]\n",
      " [0 0 4 0 1]\n",
      " [0 0 4 0 3]\n",
      " [0 0 0 2 5]\n",
      " [0 0 0 0 8]]\n",
      "Accuracy score =  0.45161290322580644\n",
      "Precision score =  [1.         1.         0.4        1.         0.42105263]\n",
      "Recall score =  [0.         0.         0.57142857 0.28571429 1.        ]\n",
      "F measure =  [0.         0.         0.47058824 0.44444444 0.59259259]\n",
      " \n",
      " \n",
      "Test\n",
      "[[0 0 8 0 6]\n",
      " [0 0 8 4 1]\n",
      " [0 0 4 1 6]\n",
      " [0 0 1 2 8]\n",
      " [0 0 0 2 8]]\n",
      "Accuracy score =  0.23728813559322035\n",
      "Precision score =  [1.         1.         0.19047619 0.22222222 0.27586207]\n",
      "Recall score =  [0.         0.         0.36363636 0.18181818 0.8       ]\n",
      "F measure =  [0.         0.         0.25       0.2        0.41025641]\n",
      " \n",
      "Logistic Regression\n",
      "Train\n",
      "[[4 0 0 0 0]\n",
      " [0 4 1 0 0]\n",
      " [0 2 3 1 1]\n",
      " [0 0 0 5 2]\n",
      " [0 0 0 3 5]]\n",
      "Accuracy score =  0.6774193548387096\n",
      "Precision score =  [1.         0.66666667 0.75       0.55555556 0.625     ]\n",
      "Recall score =  [1.         0.8        0.42857143 0.71428571 0.625     ]\n",
      "F measure =  [1.         0.72727273 0.54545455 0.625      0.625     ]\n",
      " \n",
      " \n",
      "Test\n",
      "[[4 4 2 2 2]\n",
      " [2 4 5 1 1]\n",
      " [2 1 3 2 3]\n",
      " [0 0 1 6 4]\n",
      " [0 0 0 4 6]]\n",
      "Accuracy score =  0.3898305084745763\n",
      "Precision score =  [0.5        0.44444444 0.27272727 0.4        0.375     ]\n",
      "Recall score =  [0.28571429 0.30769231 0.27272727 0.54545455 0.6       ]\n",
      "F measure =  [0.36363636 0.36363636 0.27272727 0.46153846 0.46153846]\n",
      " \n",
      "MLP classifier\n",
      "Train\n",
      "1.0\n",
      " \n",
      "Test\n"
     ]
    },
    {
     "data": {
      "image/png": "[encoded data removed]",
      "text/plain": [
       "<Figure size 576x252 with 1 Axes>"
      ]
     },
     "metadata": {
      "needs_background": "light"
     },
     "output_type": "display_data"
    },
    {
     "name": "stdout",
     "output_type": "stream",
     "text": [
      "87\n",
      "Decision Tree\n",
      "Train\n",
      "[[4 0 0 0 0]\n",
      " [0 5 0 0 0]\n",
      " [3 3 0 0 1]\n",
      " [2 2 0 0 3]\n",
      " [1 0 0 0 7]]\n",
      "Accuracy score =  0.5161290322580645\n",
      "Precision score =  [0.4        0.5        1.         1.         0.63636364]\n",
      "Recall score =  [1.    1.    0.    0.    0.875]\n",
      "F measure =  [0.57142857 0.66666667 0.         0.         0.73684211]\n",
      " \n",
      " \n",
      "Test\n",
      "[[8 3 0 0 3]\n",
      " [4 6 0 0 3]\n",
      " [2 3 0 0 6]\n",
      " [3 0 0 0 8]\n",
      " [1 1 0 0 8]]\n",
      "Accuracy score =  0.3728813559322034\n",
      "Precision score =  [0.44444444 0.46153846 1.         1.         0.28571429]\n",
      "Recall score =  [0.57142857 0.46153846 0.         0.         0.8       ]\n",
      "F measure =  [0.5        0.46153846 0.         0.         0.42105263]\n",
      " \n",
      "Random Forest\n",
      "Train\n",
      "[[0 0 3 0 1]\n",
      " [0 0 4 0 1]\n",
      " [0 0 5 0 2]\n",
      " [0 0 1 1 5]\n",
      " [0 0 0 0 8]]\n",
      "Accuracy score =  0.45161290322580644\n",
      "Precision score =  [1.         1.         0.38461538 1.         0.47058824]\n",
      "Recall score =  [0.         0.         0.71428571 0.14285714 1.        ]\n",
      "F measure =  [0.   0.   0.5  0.25 0.64]\n",
      " \n",
      " \n",
      "Test\n",
      "[[ 0  0  4  1  9]\n",
      " [ 0  0  8  2  3]\n",
      " [ 0  0  3  2  6]\n",
      " [ 0  0  1  0 10]\n",
      " [ 0  0  1  1  8]]\n",
      "Accuracy score =  0.1864406779661017\n",
      "Precision score =  [1.         1.         0.17647059 0.         0.22222222]\n",
      "Recall score =  [0.         0.         0.27272727 0.         0.8       ]\n",
      "F measure =  [0.         0.         0.21428571 0.         0.34782609]\n",
      " \n",
      "Logistic Regression\n",
      "Train\n",
      "[[4 0 0 0 0]\n",
      " [0 4 1 0 0]\n",
      " [0 0 5 2 0]\n",
      " [0 1 1 3 2]\n",
      " [0 0 0 1 7]]\n",
      "Accuracy score =  0.7419354838709677\n",
      "Precision score =  [1.         0.8        0.71428571 0.5        0.77777778]\n",
      "Recall score =  [1.         0.8        0.71428571 0.42857143 0.875     ]\n",
      "F measure =  [1.         0.8        0.71428571 0.46153846 0.82352941]\n",
      " \n",
      " \n",
      "Test\n",
      "[[4 3 5 0 2]\n",
      " [1 2 8 2 0]\n",
      " [2 2 3 3 1]\n",
      " [1 0 2 2 6]\n",
      " [1 0 0 5 4]]\n",
      "Accuracy score =  0.2542372881355932\n",
      "Precision score =  [0.44444444 0.28571429 0.16666667 0.16666667 0.30769231]\n",
      "Recall score =  [0.28571429 0.15384615 0.27272727 0.18181818 0.4       ]\n",
      "F measure =  [0.34782609 0.2        0.20689655 0.17391304 0.34782609]\n",
      " \n",
      "MLP classifier\n",
      "Train\n",
      "1.0\n",
      " \n",
      "Test\n"
     ]
    },
    {
     "data": {
      "image/png": "[encoded data removed]",
      "text/plain": [
       "<Figure size 576x252 with 1 Axes>"
      ]
     },
     "metadata": {
      "needs_background": "light"
     },
     "output_type": "display_data"
    }
   ],
   "source": [
    "import random\n",
    "def random_state(x):\n",
    "    i = 0\n",
    "    while i < x :\n",
    "        r = random.randint(1, 100)\n",
    "        print(r)\n",
    "        new_wine_without_3 = create_new_dataset_without_3(18, r, False)\n",
    "        X_new_without_3 = new_wine_without_3.iloc[:,1:11]\n",
    "        y_new_without_3 = new_wine_without_3[\"quality\"]  \n",
    "        X_train_w3, X_test_w3, y_train_w3, y_test_w3 = train_test_split(X_new_without_3, y_new_without_3, train_size=0.35, random_state=42)\n",
    "        tests(X_train_w3, X_test_w3, y_train_w3, y_test_w3)\n",
    "        i += 1\n",
    "        \n",
    "random_state(3)"
   ]
  },
  {
   "cell_type": "markdown",
   "id": "9e298c2e",
   "metadata": {},
   "source": [
    "### Conclusion 4\n",
    "No better scores were achieved by differing the random state, all similar or worse. Again an interesting fact that the best classifier changes with a different random_state. This could point that there is still not enough data to make a solid and constant prediction. As an overall conclusion, always try to get the classes represented evenly in the dataset. For this dataset can be concluded that it is not very suitable to classify new wines on their chemical properties. Earlier test show this is not just because to the class division but mainly due to the fact that the classification of wine is very much depending on the person who tastes it."
   ]
  }
 ],
 "metadata": {
  "kernelspec": {
   "display_name": "Python 3 (ipykernel)",
   "language": "python",
   "name": "python3"
  },
  "language_info": {
   "codemirror_mode": {
    "name": "ipython",
    "version": 3
   },
   "file_extension": ".py",
   "mimetype": "text/x-python",
   "name": "python",
   "nbconvert_exporter": "python",
   "pygments_lexer": "ipython3",
   "version": "3.8.11"
  }
 },
 "nbformat": 4,
 "nbformat_minor": 5
}
