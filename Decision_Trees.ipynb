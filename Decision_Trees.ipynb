{
 "cells": [
  {
   "cell_type": "code",
   "execution_count": 1,
   "id": "c8d2e260",
   "metadata": {},
   "outputs": [
    {
     "name": "stdout",
     "output_type": "stream",
     "text": [
      "<class 'pandas.core.frame.DataFrame'>\n",
      "RangeIndex: 1599 entries, 0 to 1598\n",
      "Data columns (total 12 columns):\n",
      " #   Column                Non-Null Count  Dtype  \n",
      "---  ------                --------------  -----  \n",
      " 0   fixed acidity         1599 non-null   float64\n",
      " 1   volatile acidity      1599 non-null   float64\n",
      " 2   citric acid           1599 non-null   float64\n",
      " 3   residual sugar        1599 non-null   float64\n",
      " 4   chlorides             1599 non-null   float64\n",
      " 5   free sulfur dioxide   1599 non-null   float64\n",
      " 6   total sulfur dioxide  1599 non-null   float64\n",
      " 7   density               1599 non-null   float64\n",
      " 8   pH                    1599 non-null   float64\n",
      " 9   sulphates             1599 non-null   float64\n",
      " 10  alcohol               1599 non-null   float64\n",
      " 11  quality               1599 non-null   int64  \n",
      "dtypes: float64(11), int64(1)\n",
      "memory usage: 150.0 KB\n"
     ]
    }
   ],
   "source": [
    "# Python ≥3.5 is required\n",
    "import sys\n",
    "assert sys.version_info >= (3, 5)\n",
    "\n",
    "# Scikit-Learn ≥0.20 is \n",
    "import sklearn\n",
    "assert sklearn.__version__ >= \"0.20\"\n",
    "\n",
    "# Common imports\n",
    "import numpy as np\n",
    "import os\n",
    "\n",
    "from sklearn.metrics import accuracy_score, precision_score, recall_score, confusion_matrix, f1_score, roc_auc_score\n",
    "from sklearn.model_selection import cross_val_predict\n",
    "from sklearn.metrics import roc_curve\n",
    "from sklearn.model_selection import cross_val_score\n",
    "\n",
    "# to make this notebook's output stable across runs\n",
    "np.random.seed(42)\n",
    "\n",
    "# To plot pretty figures\n",
    "%matplotlib inline\n",
    "import matplotlib as mpl\n",
    "import matplotlib.pyplot as plt\n",
    "mpl.rc('axes', labelsize=14)\n",
    "mpl.rc('xtick', labelsize=12)\n",
    "mpl.rc('ytick', labelsize=12)\n",
    "\n",
    "#Load data\n",
    "import pandas as pd\n",
    "\n",
    "def load_wine_data():\n",
    "    csv_path = os.path.join(r\"C:\\Users\\Sam van Pomeren\\Desktop\\HWUK\\F21DL\", \"wine.csv\")\n",
    "    return pd.read_csv(csv_path)\n",
    "\n",
    "def score(Y_true, Y_pred):\n",
    "    conf_mat = confusion_matrix(Y_true, Y_pred)\n",
    "    acc_score = accuracy_score(Y_true, Y_pred)\n",
    "    prec_score = precision_score(Y_true, Y_pred, average=None, zero_division=1)\n",
    "    rec_score = recall_score(Y_true, Y_pred, average=None, zero_division=1)\n",
    "    F_score = f1_score(Y_true, Y_pred, average=None, zero_division=1)\n",
    "    \n",
    "    \n",
    "    print(\"Confusion Matrix = \", \n",
    "          conf_mat)\n",
    "    print(\"Accuracy score = \",acc_score)\n",
    "    print(\"Precision score = \",prec_score)\n",
    "    print(\"Recall score = \",rec_score)\n",
    "    print(\"F measure = \",F_score)\n",
    "\n",
    "wine = load_wine_data()\n",
    "wine.describe()\n",
    "wine.info()"
   ]
  },
  {
   "cell_type": "code",
   "execution_count": 2,
   "id": "ef64504d",
   "metadata": {},
   "outputs": [],
   "source": [
    "from sklearn.model_selection import train_test_split\n",
    "\n",
    "#Finding correlation between the different attributes\n",
    "corr_matrix = wine.corr()\n",
    "abs(corr_matrix[\"quality\"].sort_values(ascending=False))\n",
    "\n",
    "\n",
    "X = wine.iloc[:,[1, 10, 2, 9, 6, 7, 5]]  #independent columns\n",
    "y = wine[\"quality\"]  \n",
    "\n"
   ]
  },
  {
   "cell_type": "code",
   "execution_count": 3,
   "id": "d8298cde",
   "metadata": {},
   "outputs": [],
   "source": [
    "X_train, X_test, y_train, y_test = train_test_split(X, y, train_size=0.5, random_state=42)\n"
   ]
  },
  {
   "cell_type": "code",
   "execution_count": 4,
   "id": "6a9b223e",
   "metadata": {},
   "outputs": [
    {
     "data": {
      "text/plain": [
       "DecisionTreeClassifier(max_depth=10, min_samples_leaf=10, random_state=42)"
      ]
     },
     "execution_count": 4,
     "metadata": {},
     "output_type": "execute_result"
    }
   ],
   "source": [
    "from sklearn.tree import DecisionTreeClassifier,plot_tree\n",
    "\n",
    "tree_clf = DecisionTreeClassifier(max_depth=10, random_state=42, criterion=\"gini\", min_samples_leaf=10)\n",
    "tree_clf.fit(X_train, y_train)"
   ]
  },
  {
   "cell_type": "code",
   "execution_count": 5,
   "id": "e78a7f13",
   "metadata": {},
   "outputs": [
    {
     "data": {
      "text/plain": [
       "6"
      ]
     },
     "execution_count": 5,
     "metadata": {},
     "output_type": "execute_result"
    },
    {
     "data": {
      "image/png": "[encoded data removed]",
      "text/plain": [
       "<Figure size 432x288 with 1 Axes>"
      ]
     },
     "metadata": {
      "needs_background": "light"
     },
     "output_type": "display_data"
    }
   ],
   "source": [
    "plot_tree(tree_clf)\n",
    "tree_clf.n_classes_"
   ]
  },
  {
   "cell_type": "code",
   "execution_count": 6,
   "id": "4dd9cb83",
   "metadata": {},
   "outputs": [],
   "source": [
    "y_pred1 = tree_clf.predict(X_train)"
   ]
  },
  {
   "cell_type": "code",
   "execution_count": 7,
   "id": "d13a22c1",
   "metadata": {},
   "outputs": [
    {
     "name": "stdout",
     "output_type": "stream",
     "text": [
      "Confusion Matrix =  [[  0   0   4   3   0   0]\n",
      " [  0   0  16   9   0   0]\n",
      " [  0   0 273  45   8   0]\n",
      " [  0   0  69 249  18   0]\n",
      " [  0   0  11  26  61   0]\n",
      " [  0   0   0   3   4   0]]\n",
      "Accuracy score =  0.7296620775969962\n",
      "Precision score =  [1.         1.         0.73190349 0.74328358 0.67032967 1.        ]\n",
      "Recall score =  [0.         0.         0.83742331 0.74107143 0.62244898 0.        ]\n",
      "F measure =  [0.         0.         0.78111588 0.74217586 0.64550265 0.        ]\n"
     ]
    }
   ],
   "source": [
    "score(y_train,y_pred1)"
   ]
  },
  {
   "cell_type": "code",
   "execution_count": 8,
   "id": "b96f08b5",
   "metadata": {},
   "outputs": [
    {
     "name": "stderr",
     "output_type": "stream",
     "text": [
      "C:\\Users\\Sam van Pomeren\\.conda\\envs\\F21DL\\lib\\site-packages\\sklearn\\model_selection\\_split.py:666: UserWarning: The least populated class in y has only 7 members, which is less than n_splits=10.\n",
      "  warnings.warn((\"The least populated class in y has only %d\"\n"
     ]
    },
    {
     "data": {
      "text/plain": [
       "array([0.5125    , 0.5875    , 0.5125    , 0.5625    , 0.6625    ,\n",
       "       0.5125    , 0.6       , 0.675     , 0.6125    , 0.69620253])"
      ]
     },
     "execution_count": 8,
     "metadata": {},
     "output_type": "execute_result"
    }
   ],
   "source": [
    "cross_val_score(tree_clf, X_train, y_train, cv=10, scoring='accuracy')"
   ]
  },
  {
   "cell_type": "code",
   "execution_count": 9,
   "id": "75a6ecdc",
   "metadata": {},
   "outputs": [
    {
     "name": "stdout",
     "output_type": "stream",
     "text": [
      "Confusion Matrix =  [[  0   0   3   0   0   0]\n",
      " [  0   0  19   9   0   0]\n",
      " [  0   0 243 104   8   0]\n",
      " [  0   0  98 168  36   0]\n",
      " [  0   0  11  55  35   0]\n",
      " [  0   0   0   2   9   0]]\n",
      "Accuracy score =  0.5575\n",
      "Precision score =  [1.         1.         0.64973262 0.49704142 0.39772727 1.        ]\n",
      "Recall score =  [0.         0.         0.68450704 0.55629139 0.34653465 0.        ]\n",
      "F measure =  [0.         0.         0.66666667 0.525      0.37037037 0.        ]\n"
     ]
    }
   ],
   "source": [
    "y_pred2 = tree_clf.predict(X_test)\n",
    "score(y_test,y_pred2)"
   ]
  },
  {
   "cell_type": "code",
   "execution_count": 10,
   "id": "b76db641",
   "metadata": {},
   "outputs": [
    {
     "name": "stdout",
     "output_type": "stream",
     "text": [
      "Confusion Matrix =  [[  0   0   3   0   0   0]\n",
      " [  0   0  19   9   0   0]\n",
      " [  0   0 243 104   8   0]\n",
      " [  0   0  98 168  36   0]\n",
      " [  0   0  11  55  35   0]\n",
      " [  0   0   0   2   9   0]]\n",
      "Accuracy score =  0.5575\n",
      "Precision score =  [1.         1.         0.64973262 0.49704142 0.39772727 1.        ]\n",
      "Recall score =  [0.         0.         0.68450704 0.55629139 0.34653465 0.        ]\n",
      "F measure =  [0.         0.         0.66666667 0.525      0.37037037 0.        ]\n"
     ]
    }
   ],
   "source": [
    "score(y_test,y_pred2)"
   ]
  },
  {
   "cell_type": "code",
   "execution_count": 11,
   "id": "da1ffd48",
   "metadata": {},
   "outputs": [
    {
     "name": "stdout",
     "output_type": "stream",
     "text": [
      "Confusion Matrix =  [[ 10   0   0   0   0   0]\n",
      " [  0  53   0   0   0   0]\n",
      " [  0   0 681   0   0   0]\n",
      " [  0   0   0 638   0   0]\n",
      " [  0   0   0   0 199   0]\n",
      " [  0   0   0   0   0  18]]\n",
      "Accuracy score =  1.0\n",
      "Precision score =  [1. 1. 1. 1. 1. 1.]\n",
      "Recall score =  [1. 1. 1. 1. 1. 1.]\n",
      "F measure =  [1. 1. 1. 1. 1. 1.]\n",
      "Trainsize =  0.2\n",
      "Train\n",
      "Confusion Matrix =  [[  3   0   0   0   0   0]\n",
      " [  1   9   0   0   0   0]\n",
      " [  1   5 118   2   0   0]\n",
      " [  1   0  10 130   0   0]\n",
      " [  0   1   2   7  28   0]\n",
      " [  0   0   0   1   0   0]]\n",
      "Accuracy score =  0.9028213166144201\n",
      "Precision score =  [0.5        0.6        0.90769231 0.92857143 1.         1.        ]\n",
      "Recall score =  [1.         0.9        0.93650794 0.92198582 0.73684211 0.        ]\n",
      "F measure =  [0.66666667 0.72       0.921875   0.9252669  0.84848485 0.        ]\n",
      "Test\n",
      "Confusion Matrix =  [[  0   3   4   0   0   0]\n",
      " [  2   9  21  11   0   0]\n",
      " [ 19  62 310 159   5   0]\n",
      " [  9  27 172 262  27   0]\n",
      " [  0   4  21  91  45   0]\n",
      " [  0   0   2   9   6   0]]\n",
      "Accuracy score =  0.4890625\n",
      "Precision score =  [0.         0.08571429 0.58490566 0.4924812  0.54216867 1.        ]\n",
      "Recall score =  [0.         0.20930233 0.55855856 0.52716298 0.27950311 0.        ]\n",
      "F measure =  [0.         0.12162162 0.57142857 0.50923226 0.36885246 0.        ]\n",
      " \n",
      "Trainsize =  0.35\n",
      "Train\n",
      "Confusion Matrix =  [[  4   0   2   0   0   0]\n",
      " [  0  13   3   2   0   0]\n",
      " [  0   4 213  14   1   0]\n",
      " [  0   1  16 213   2   0]\n",
      " [  0   0   3  20  45   0]\n",
      " [  0   0   0   3   0   0]]\n",
      "Accuracy score =  0.8729874776386404\n",
      "Precision score =  [1.         0.72222222 0.89873418 0.8452381  0.9375     1.        ]\n",
      "Recall score =  [0.66666667 0.72222222 0.91810345 0.91810345 0.66176471 0.        ]\n",
      "F measure =  [0.8        0.72222222 0.90831557 0.88016529 0.77586207 0.        ]\n",
      "Test\n",
      "Confusion Matrix =  [[  1   1   2   0   0   0]\n",
      " [  0   1  17  17   0   0]\n",
      " [  5  19 304 119   2   0]\n",
      " [  4  10 116 247  29   0]\n",
      " [  0   3  11  66  51   0]\n",
      " [  0   0   0  10   5   0]]\n",
      "Accuracy score =  0.5807692307692308\n",
      "Precision score =  [0.1        0.02941176 0.67555556 0.53812636 0.5862069  1.        ]\n",
      "Recall score =  [0.25       0.02857143 0.67706013 0.60837438 0.38931298 0.        ]\n",
      "F measure =  [0.14285714 0.02898551 0.67630701 0.57109827 0.46788991 0.        ]\n",
      " \n",
      "Trainsize =  0.5\n",
      "Train\n",
      "Confusion Matrix =  [[  6   0   1   0   0   0]\n",
      " [  1  19   2   3   0   0]\n",
      " [  1   6 304  14   1   0]\n",
      " [  2   6  35 292   1   0]\n",
      " [  1   2  11  11  73   0]\n",
      " [  0   0   0   3   4   0]]\n",
      "Accuracy score =  0.8685857321652065\n",
      "Precision score =  [0.54545455 0.57575758 0.8611898  0.90402477 0.92405063 1.        ]\n",
      "Recall score =  [0.85714286 0.76       0.93251534 0.86904762 0.74489796 0.        ]\n",
      "F measure =  [0.66666667 0.65517241 0.89543446 0.8861912  0.82485876 0.        ]\n",
      "Test\n",
      "Confusion Matrix =  [[  0   1   2   0   0   0]\n",
      " [  0   6  10  12   0   0]\n",
      " [  2  16 239  93   5   0]\n",
      " [  4  13 104 161  20   0]\n",
      " [  0   2  13  50  36   0]\n",
      " [  0   0   1   3   7   0]]\n",
      "Accuracy score =  0.5525\n",
      "Precision score =  [0.         0.15789474 0.64769648 0.50470219 0.52941176 1.        ]\n",
      "Recall score =  [0.         0.21428571 0.67323944 0.53311258 0.35643564 0.        ]\n",
      "F measure =  [0.         0.18181818 0.66022099 0.51851852 0.4260355  0.        ]\n",
      " \n",
      "Trainsize =  0.6499999999999999\n",
      "Train\n",
      "Confusion Matrix =  [[  5   0   2   0   1   0]\n",
      " [  1  17  10   4   1   0]\n",
      " [  0   5 421  21   1   0]\n",
      " [  1   5  43 363   1   0]\n",
      " [  0   1  11  17  97   0]\n",
      " [  0   0   1   4   4   2]]\n",
      "Accuracy score =  0.8710298363811357\n",
      "Precision score =  [0.71428571 0.60714286 0.86270492 0.88753056 0.92380952 1.        ]\n",
      "Recall score =  [0.625      0.51515152 0.93973214 0.87893462 0.76984127 0.18181818]\n",
      "F measure =  [0.66666667 0.55737705 0.89957265 0.88321168 0.83982684 0.30769231]\n",
      "Test\n",
      "Confusion Matrix =  [[  0   0   1   1   0   0]\n",
      " [  0   0  11   9   0   0]\n",
      " [  1   6 167  56   3   0]\n",
      " [  2   7  68 117  31   0]\n",
      " [  0   1   6  32  34   0]\n",
      " [  0   0   0   2   5   0]]\n",
      "Accuracy score =  0.5678571428571428\n",
      "Precision score =  [0.         0.         0.66007905 0.53917051 0.46575342 1.        ]\n",
      "Recall score =  [0.         0.         0.7167382  0.52       0.46575342 0.        ]\n",
      "F measure =  [0.         0.         0.6872428  0.52941176 0.46575342 0.        ]\n",
      " \n",
      "Trainsize =  0.8\n",
      "Train\n",
      "Confusion Matrix =  [[  7   0   1   0   1   0]\n",
      " [  1  24  12   4   2   0]\n",
      " [  2  10 499  38   2   0]\n",
      " [  2   6  63 430   5   0]\n",
      " [  1   2   9  30 114   1]\n",
      " [  0   0   1   2   4   6]]\n",
      "Accuracy score =  0.8444096950742768\n",
      "Precision score =  [0.53846154 0.57142857 0.85299145 0.8531746  0.890625   0.85714286]\n",
      "Recall score =  [0.77777778 0.55813953 0.90562613 0.84980237 0.72611465 0.46153846]\n",
      "F measure =  [0.63636364 0.56470588 0.87852113 0.85148515 0.8        0.6       ]\n",
      "Test\n",
      "Confusion Matrix =  [[ 0  0  1  0  0  0]\n",
      " [ 0  0  6  4  0  0]\n",
      " [ 2  5 85 36  2  0]\n",
      " [ 1  2 47 72 10  0]\n",
      " [ 0  1  5 18 18  0]\n",
      " [ 0  0  0  4  1  0]]\n",
      "Accuracy score =  0.546875\n",
      "Precision score =  [0.         0.         0.59027778 0.53731343 0.58064516 1.        ]\n",
      "Recall score =  [0.         0.         0.65384615 0.54545455 0.42857143 0.        ]\n",
      "F measure =  [0.         0.         0.62043796 0.54135338 0.49315068 0.        ]\n",
      " \n"
     ]
    }
   ],
   "source": [
    "score(y,y)\n",
    "for x in range(5):\n",
    "    X_train, X_test, y_train, y_test = train_test_split(X, y, train_size=(0.2+(0.15*x)), random_state=42)\n",
    "    tree_clf = DecisionTreeClassifier(max_depth=10, random_state=42, criterion=\"gini\", min_samples_leaf=2)\n",
    "    tree_clf.fit(X_train, y_train)\n",
    "    y_pred_train = tree_clf.predict(X_train)\n",
    "    y_pred_test = tree_clf.predict(X_test)\n",
    "    print(\"Trainsize = \",(0.2+(0.15*x)))\n",
    "    print(\"Train\")\n",
    "    score(y_train,y_pred_train)\n",
    "    print(\"Test\")\n",
    "    score(y_test,y_pred_test)\n",
    "    print(\" \")"
   ]
  },
  {
   "cell_type": "code",
   "execution_count": 12,
   "id": "975149b5",
   "metadata": {},
   "outputs": [
    {
     "name": "stdout",
     "output_type": "stream",
     "text": [
      "Confusion Matrix =  [[ 10   0   0   0   0   0]\n",
      " [  0  53   0   0   0   0]\n",
      " [  0   0 681   0   0   0]\n",
      " [  0   0   0 638   0   0]\n",
      " [  0   0   0   0 199   0]\n",
      " [  0   0   0   0   0  18]]\n",
      "Accuracy score =  1.0\n",
      "Precision score =  [1. 1. 1. 1. 1. 1.]\n",
      "Recall score =  [1. 1. 1. 1. 1. 1.]\n",
      "F measure =  [1. 1. 1. 1. 1. 1.]\n",
      "Trainsize =  0.2\n",
      "Train\n",
      "Confusion Matrix =  [[  0   0   3   0   0   0]\n",
      " [  0   7   3   0   0   0]\n",
      " [  0   0 123   3   0   0]\n",
      " [  0   0   8 133   0   0]\n",
      " [  0   0   2   3  33   0]\n",
      " [  0   0   0   1   0   0]]\n",
      "Accuracy score =  0.9278996865203761\n",
      "Precision score =  [1.         1.         0.88489209 0.95       1.         1.        ]\n",
      "Recall score =  [0.         0.7        0.97619048 0.94326241 0.86842105 0.        ]\n",
      "F measure =  [0.         0.82352941 0.92830189 0.94661922 0.92957746 0.        ]\n",
      "Test\n",
      "Confusion Matrix =  [[  0   0   5   2   0   0]\n",
      " [  0   0  26  17   0   0]\n",
      " [  0   2 411 141   1   0]\n",
      " [  0   0 172 308  17   0]\n",
      " [  0   0   7 115  39   0]\n",
      " [  0   0   0  12   5   0]]\n",
      "Accuracy score =  0.5921875\n",
      "Precision score =  [1.         0.         0.66183575 0.51764706 0.62903226 1.        ]\n",
      "Recall score =  [0.         0.         0.74054054 0.61971831 0.24223602 0.        ]\n",
      "F measure =  [0.         0.         0.69897959 0.56410256 0.34977578 0.        ]\n",
      " \n",
      "Trainsize =  0.35\n",
      "Train\n",
      "Confusion Matrix =  [[  1   0   5   0   0   0]\n",
      " [  0   6   8   4   0   0]\n",
      " [  0   0 226   6   0   0]\n",
      " [  0   0  10 222   0   0]\n",
      " [  0   0   1   9  58   0]\n",
      " [  0   0   0   2   1   0]]\n",
      "Accuracy score =  0.9177101967799642\n",
      "Precision score =  [1.         1.         0.904      0.91358025 0.98305085 1.        ]\n",
      "Recall score =  [0.16666667 0.33333333 0.97413793 0.95689655 0.85294118 0.        ]\n",
      "F measure =  [0.28571429 0.5        0.93775934 0.93473684 0.91338583 0.        ]\n",
      "Test\n",
      "Confusion Matrix =  [[  0   0   4   0   0   0]\n",
      " [  0   0  22  13   0   0]\n",
      " [  0   0 348 100   1   0]\n",
      " [  0   0 136 252  18   0]\n",
      " [  0   0  10  86  35   0]\n",
      " [  0   0   0   8   7   0]]\n",
      "Accuracy score =  0.6105769230769231\n",
      "Precision score =  [1.         1.         0.66923077 0.54901961 0.57377049 1.        ]\n",
      "Recall score =  [0.         0.         0.77505568 0.62068966 0.26717557 0.        ]\n",
      "F measure =  [0.         0.         0.71826625 0.58265896 0.36458333 0.        ]\n",
      " \n",
      "Trainsize =  0.5\n",
      "Train\n",
      "Confusion Matrix =  [[  1   0   5   1   0   0]\n",
      " [  0   7  13   4   1   0]\n",
      " [  0   0 315  10   1   0]\n",
      " [  0   0  12 324   0   0]\n",
      " [  0   0   4  19  75   0]\n",
      " [  0   0   0   3   2   2]]\n",
      "Accuracy score =  0.9061326658322904\n",
      "Precision score =  [1.         1.         0.9025788  0.89750693 0.94936709 1.        ]\n",
      "Recall score =  [0.14285714 0.28       0.96625767 0.96428571 0.76530612 0.28571429]\n",
      "F measure =  [0.25       0.4375     0.93333333 0.92969871 0.84745763 0.44444444]\n",
      "Test\n",
      "Confusion Matrix =  [[  0   0   2   1   0   0]\n",
      " [  0   0  17  11   0   0]\n",
      " [  0   0 269  84   2   0]\n",
      " [  0   0  84 195  23   0]\n",
      " [  0   0   7  61  33   0]\n",
      " [  0   0   0   4   7   0]]\n",
      "Accuracy score =  0.62125\n",
      "Precision score =  [1.         1.         0.70976253 0.54775281 0.50769231 1.        ]\n",
      "Recall score =  [0.         0.         0.75774648 0.64569536 0.32673267 0.        ]\n",
      "F measure =  [0.         0.         0.73297003 0.59270517 0.39759036 0.        ]\n",
      " \n",
      "Trainsize =  0.6499999999999999\n",
      "Train\n",
      "Confusion Matrix =  [[  1   0   6   1   0   0]\n",
      " [  0   7  20   5   1   0]\n",
      " [  0   0 429  19   0   0]\n",
      " [  0   0  27 385   1   0]\n",
      " [  0   0   7  17 102   0]\n",
      " [  0   0   0   8   3   0]]\n",
      "Accuracy score =  0.8893166506256015\n",
      "Precision score =  [1.         1.         0.87730061 0.88505747 0.95327103 1.        ]\n",
      "Recall score =  [0.125      0.21212121 0.95758929 0.93220339 0.80952381 0.        ]\n",
      "F measure =  [0.22222222 0.35       0.91568837 0.90801887 0.87553648 0.        ]\n",
      "Test\n",
      "Confusion Matrix =  [[  0   0   2   0   0   0]\n",
      " [  0   0  11   9   0   0]\n",
      " [  0   0 176  55   2   0]\n",
      " [  0   0  66 145  14   0]\n",
      " [  0   0   3  45  25   0]\n",
      " [  0   0   0   2   5   0]]\n",
      "Accuracy score =  0.6178571428571429\n",
      "Precision score =  [1.         1.         0.68217054 0.56640625 0.54347826 1.        ]\n",
      "Recall score =  [0.         0.         0.75536481 0.64444444 0.34246575 0.        ]\n",
      "F measure =  [0.         0.         0.71690428 0.6029106  0.42016807 0.        ]\n",
      " \n",
      "Trainsize =  0.8\n",
      "Train\n",
      "Confusion Matrix =  [[  3   0   4   2   0   0]\n",
      " [  0  14  21   7   1   0]\n",
      " [  0   0 530  20   1   0]\n",
      " [  0   0  46 459   1   0]\n",
      " [  0   0   7  25 125   0]\n",
      " [  0   0   0   9   4   0]]\n",
      "Accuracy score =  0.8842845973416732\n",
      "Precision score =  [1.         1.         0.87171053 0.87931034 0.9469697  1.        ]\n",
      "Recall score =  [0.33333333 0.3255814  0.96188748 0.90711462 0.79617834 0.        ]\n",
      "F measure =  [0.5        0.49122807 0.91458154 0.89299611 0.8650519  0.        ]\n",
      "Test\n",
      "Confusion Matrix =  [[  0   0   1   0   0   0]\n",
      " [  0   0   7   3   0   0]\n",
      " [  0   0 102  27   1   0]\n",
      " [  0   0  45  81   6   0]\n",
      " [  0   0   0  24  18   0]\n",
      " [  0   0   0   0   5   0]]\n",
      "Accuracy score =  0.628125\n",
      "Precision score =  [1.         1.         0.65806452 0.6        0.6        1.        ]\n",
      "Recall score =  [0.         0.         0.78461538 0.61363636 0.42857143 0.        ]\n",
      "F measure =  [0.         0.         0.71578947 0.60674157 0.5        0.        ]\n",
      " \n"
     ]
    }
   ],
   "source": [
    "from sklearn.ensemble import RandomForestClassifier\n",
    "score(y,y)\n",
    "for x in range(5):\n",
    "    X_train, X_test, y_train, y_test = train_test_split(X, y, train_size=(0.2+(0.15*x)), random_state=42)\n",
    "    tree_clf = RandomForestClassifier(max_depth=10, random_state=42, criterion=\"gini\", min_samples_leaf=2)\n",
    "    tree_clf.fit(X_train, y_train)\n",
    "    y_pred_train = tree_clf.predict(X_train)\n",
    "    y_pred_test = tree_clf.predict(X_test)\n",
    "    print(\"Trainsize = \",(0.2+(0.15*x)))\n",
    "    print(\"Train\")\n",
    "    score(y_train,y_pred_train)\n",
    "    print(\"Test\")\n",
    "    score(y_test,y_pred_test)\n",
    "    print(\" \")"
   ]
  },
  {
   "cell_type": "markdown",
   "id": "cf5874ea",
   "metadata": {},
   "source": [
    "## Conclusion\n",
    "The algorithm generalizes \"Okay\" on new data, looking at the 55% in the first try. Not great. Missing the outer values again. Trying some different values in the algorithm gave better outcomes. Decreasing min leaf size gave more chances to outer values. High training accuracy scores, but with bigger training sets some overfitting did appear. The random forest classifier did even better."
   ]
  },
  {
   "cell_type": "code",
   "execution_count": null,
   "id": "46fa4fab",
   "metadata": {},
   "outputs": [],
   "source": []
  }
 ],
 "metadata": {
  "kernelspec": {
   "display_name": "Python 3 (ipykernel)",
   "language": "python",
   "name": "python3"
  },
  "language_info": {
   "codemirror_mode": {
    "name": "ipython",
    "version": 3
   },
   "file_extension": ".py",
   "mimetype": "text/x-python",
   "name": "python",
   "nbconvert_exporter": "python",
   "pygments_lexer": "ipython3",
   "version": "3.8.11"
  }
 },
 "nbformat": 4,
 "nbformat_minor": 5
}
