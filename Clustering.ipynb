{
 "cells": [
  {
   "cell_type": "code",
   "execution_count": 1,
   "id": "97158c14",
   "metadata": {},
   "outputs": [
    {
     "data": {
      "text/html": [
       "<div>\n",
       "<style scoped>\n",
       "    .dataframe tbody tr th:only-of-type {\n",
       "        vertical-align: middle;\n",
       "    }\n",
       "\n",
       "    .dataframe tbody tr th {\n",
       "        vertical-align: top;\n",
       "    }\n",
       "\n",
       "    .dataframe thead th {\n",
       "        text-align: right;\n",
       "    }\n",
       "</style>\n",
       "<table border=\"1\" class=\"dataframe\">\n",
       "  <thead>\n",
       "    <tr style=\"text-align: right;\">\n",
       "      <th></th>\n",
       "      <th>fixed acidity</th>\n",
       "      <th>volatile acidity</th>\n",
       "      <th>citric acid</th>\n",
       "      <th>residual sugar</th>\n",
       "      <th>chlorides</th>\n",
       "      <th>free sulfur dioxide</th>\n",
       "      <th>total sulfur dioxide</th>\n",
       "      <th>density</th>\n",
       "      <th>pH</th>\n",
       "      <th>sulphates</th>\n",
       "      <th>alcohol</th>\n",
       "      <th>quality</th>\n",
       "    </tr>\n",
       "  </thead>\n",
       "  <tbody>\n",
       "    <tr>\n",
       "      <th>0</th>\n",
       "      <td>7.4</td>\n",
       "      <td>0.70</td>\n",
       "      <td>0.00</td>\n",
       "      <td>1.9</td>\n",
       "      <td>0.076</td>\n",
       "      <td>11.0</td>\n",
       "      <td>34.0</td>\n",
       "      <td>0.9978</td>\n",
       "      <td>3.51</td>\n",
       "      <td>0.56</td>\n",
       "      <td>9.4</td>\n",
       "      <td>5</td>\n",
       "    </tr>\n",
       "    <tr>\n",
       "      <th>1</th>\n",
       "      <td>7.8</td>\n",
       "      <td>0.88</td>\n",
       "      <td>0.00</td>\n",
       "      <td>2.6</td>\n",
       "      <td>0.098</td>\n",
       "      <td>25.0</td>\n",
       "      <td>67.0</td>\n",
       "      <td>0.9968</td>\n",
       "      <td>3.20</td>\n",
       "      <td>0.68</td>\n",
       "      <td>9.8</td>\n",
       "      <td>5</td>\n",
       "    </tr>\n",
       "    <tr>\n",
       "      <th>2</th>\n",
       "      <td>7.8</td>\n",
       "      <td>0.76</td>\n",
       "      <td>0.04</td>\n",
       "      <td>2.3</td>\n",
       "      <td>0.092</td>\n",
       "      <td>15.0</td>\n",
       "      <td>54.0</td>\n",
       "      <td>0.9970</td>\n",
       "      <td>3.26</td>\n",
       "      <td>0.65</td>\n",
       "      <td>9.8</td>\n",
       "      <td>5</td>\n",
       "    </tr>\n",
       "    <tr>\n",
       "      <th>3</th>\n",
       "      <td>11.2</td>\n",
       "      <td>0.28</td>\n",
       "      <td>0.56</td>\n",
       "      <td>1.9</td>\n",
       "      <td>0.075</td>\n",
       "      <td>17.0</td>\n",
       "      <td>60.0</td>\n",
       "      <td>0.9980</td>\n",
       "      <td>3.16</td>\n",
       "      <td>0.58</td>\n",
       "      <td>9.8</td>\n",
       "      <td>6</td>\n",
       "    </tr>\n",
       "    <tr>\n",
       "      <th>4</th>\n",
       "      <td>7.4</td>\n",
       "      <td>0.70</td>\n",
       "      <td>0.00</td>\n",
       "      <td>1.9</td>\n",
       "      <td>0.076</td>\n",
       "      <td>11.0</td>\n",
       "      <td>34.0</td>\n",
       "      <td>0.9978</td>\n",
       "      <td>3.51</td>\n",
       "      <td>0.56</td>\n",
       "      <td>9.4</td>\n",
       "      <td>5</td>\n",
       "    </tr>\n",
       "  </tbody>\n",
       "</table>\n",
       "</div>"
      ],
      "text/plain": [
       "   fixed acidity  volatile acidity  citric acid  residual sugar  chlorides  \\\n",
       "0            7.4              0.70         0.00             1.9      0.076   \n",
       "1            7.8              0.88         0.00             2.6      0.098   \n",
       "2            7.8              0.76         0.04             2.3      0.092   \n",
       "3           11.2              0.28         0.56             1.9      0.075   \n",
       "4            7.4              0.70         0.00             1.9      0.076   \n",
       "\n",
       "   free sulfur dioxide  total sulfur dioxide  density    pH  sulphates  \\\n",
       "0                 11.0                  34.0   0.9978  3.51       0.56   \n",
       "1                 25.0                  67.0   0.9968  3.20       0.68   \n",
       "2                 15.0                  54.0   0.9970  3.26       0.65   \n",
       "3                 17.0                  60.0   0.9980  3.16       0.58   \n",
       "4                 11.0                  34.0   0.9978  3.51       0.56   \n",
       "\n",
       "   alcohol  quality  \n",
       "0      9.4        5  \n",
       "1      9.8        5  \n",
       "2      9.8        5  \n",
       "3      9.8        6  \n",
       "4      9.4        5  "
      ]
     },
     "execution_count": 1,
     "metadata": {},
     "output_type": "execute_result"
    }
   ],
   "source": [
    "# Python ≥3.5 is required\n",
    "import sys\n",
    "assert sys.version_info >= (3, 5)\n",
    "from sklearn import metrics\n",
    "\n",
    "# Scikit-Learn ≥0.20 is required\n",
    "import sklearn\n",
    "assert sklearn.__version__ >= \"0.20\"\n",
    "\n",
    "# Common imports\n",
    "import numpy as np\n",
    "import os\n",
    "\n",
    "# to make this notebook's output stable across runs\n",
    "np.random.seed(42)\n",
    "\n",
    "# To plot pretty figures\n",
    "%matplotlib inline\n",
    "import matplotlib as mpl\n",
    "import matplotlib.pyplot as plt\n",
    "mpl.rc('axes', labelsize=14)\n",
    "mpl.rc('xtick', labelsize=12)\n",
    "mpl.rc('ytick', labelsize=12)\n",
    "\n",
    "# Ignore useless warnings (see SciPy issue #5998)\n",
    "import warnings\n",
    "warnings.filterwarnings(action=\"ignore\", message=\"^internal gelsd\")\n",
    "\n",
    "#Load data\n",
    "import pandas as pd\n",
    "\n",
    "def load_wine_data():\n",
    "    csv_path = os.path.join(r\"C:\\Users\\Sam van Pomeren\\Desktop\\HWUK\\F21DL\", \"wine.csv\")\n",
    "    return pd.read_csv(csv_path)\n",
    "\n",
    "#Print data\n",
    "wine = load_wine_data()\n",
    "wine.head()"
   ]
  },
  {
   "cell_type": "markdown",
   "id": "4351dd0c",
   "metadata": {},
   "source": [
    "### Introduction\n",
    "In this section the clustering algorithms will be tested. Starting with the standed excercises from the tutorial, followed by some research on the personal dataset."
   ]
  },
  {
   "cell_type": "code",
   "execution_count": 2,
   "id": "ab72b30a",
   "metadata": {},
   "outputs": [
    {
     "name": "stdout",
     "output_type": "stream",
     "text": [
      "[3 0 0 ... 3 3 3]\n",
      "[3 0 0 ... 3 0 3]\n",
      "[0 0 0 ... 1 1 5]\n"
     ]
    }
   ],
   "source": [
    "from sklearn.cluster import KMeans\n",
    "from sklearn.cluster import AgglomerativeClustering\n",
    "from sklearn.mixture import GaussianMixture\n",
    "\n",
    "X = wine.iloc[:,0:11]\n",
    "y = wine.iloc[:,-1] \n",
    "\n",
    "k = 6\n",
    "kmeans = KMeans(n_clusters=k, random_state=42)\n",
    "agglom = AgglomerativeClustering(n_clusters=k, compute_distances=True)\n",
    "gauss = GaussianMixture(n_components=k, random_state=0)\n",
    "y_pred = kmeans.fit_predict(X)\n",
    "y_pred_agglom = agglom.fit_predict(X)\n",
    "y_pred_gauss = gauss.fit_predict(X)\n",
    "\n",
    "print(y_pred)\n",
    "print(y_pred_agglom)\n",
    "print(y_pred_gauss)\n",
    "\n",
    "\n",
    "\n"
   ]
  },
  {
   "cell_type": "code",
   "execution_count": 3,
   "id": "650f94ed",
   "metadata": {},
   "outputs": [
    {
     "data": {
      "text/plain": [
       "True"
      ]
     },
     "execution_count": 3,
     "metadata": {},
     "output_type": "execute_result"
    }
   ],
   "source": [
    "y_pred is kmeans.labels_"
   ]
  },
  {
   "cell_type": "code",
   "execution_count": 4,
   "id": "6bb0262d",
   "metadata": {},
   "outputs": [
    {
     "data": {
      "text/plain": [
       "array([[8.23702422e+00, 5.20276817e-01, 2.76124567e-01, 2.40847751e+00,\n",
       "        9.52145329e-02, 2.50034602e+01, 6.17439446e+01, 9.96899135e-01,\n",
       "        3.32363322e+00, 6.84913495e-01, 1.03016724e+01],\n",
       "       [8.62107023e+00, 5.12959866e-01, 2.87575251e-01, 2.42525084e+00,\n",
       "        8.40217391e-02, 7.47826087e+00, 1.84899666e+01, 9.96637408e-01,\n",
       "        3.29968227e+00, 6.53795987e-01, 1.06422520e+01],\n",
       "       [8.02054795e+00, 5.64178082e-01, 3.10684932e-01, 3.27123288e+00,\n",
       "        9.05890411e-02, 3.16095890e+01, 1.33205479e+02, 9.97217534e-01,\n",
       "        3.24547945e+00, 7.08767123e-01, 9.76164384e+00],\n",
       "       [8.22828508e+00, 5.26436526e-01, 2.41759465e-01, 2.39554566e+00,\n",
       "        8.63563474e-02, 1.54977728e+01, 3.89755011e+01, 9.96686949e-01,\n",
       "        3.32928731e+00, 6.47973274e-01, 1.04419822e+01],\n",
       "       [7.90000000e+00, 3.00000000e-01, 6.80000000e-01, 8.30000000e+00,\n",
       "        5.00000000e-02, 3.75000000e+01, 2.83500000e+02, 9.93160000e-01,\n",
       "        3.01000000e+00, 5.10000000e-01, 1.23000000e+01],\n",
       "       [7.82659574e+00, 5.78297872e-01, 2.60265957e-01, 3.09680851e+00,\n",
       "        8.83510638e-02, 2.31117021e+01, 9.36702128e+01, 9.96857872e-01,\n",
       "        3.31351064e+00, 6.37074468e-01, 1.01034574e+01]])"
      ]
     },
     "execution_count": 4,
     "metadata": {},
     "output_type": "execute_result"
    }
   ],
   "source": [
    "kmeans.cluster_centers_"
   ]
  },
  {
   "cell_type": "code",
   "execution_count": 5,
   "id": "f1a0092b",
   "metadata": {},
   "outputs": [
    {
     "name": "stdout",
     "output_type": "stream",
     "text": [
      "[3 0 0 ... 3 3 3]\n",
      "[3 0 0 ... 3 0 3]\n"
     ]
    }
   ],
   "source": [
    "print(kmeans.labels_)\n",
    "print(agglom.labels_)"
   ]
  },
  {
   "cell_type": "code",
   "execution_count": 6,
   "id": "7c98b63f",
   "metadata": {},
   "outputs": [
    {
     "data": {
      "text/plain": [
       "array([[ 31.10875737,  16.01388945, 101.33649761,   6.86527473,\n",
       "        251.00397526,  60.9053697 ],\n",
       "       [  5.32225881,  51.59338141,  66.53985319,  29.60580283,\n",
       "        216.95187512,  26.74657199],\n",
       "       [ 12.67323273,  36.31889649,  80.93512904,  15.05616612,\n",
       "        230.69344394,  40.50108352],\n",
       "       ...,\n",
       "       [ 22.20491616,  30.51960793,  93.27151985,  13.6905091 ,\n",
       "        243.73207213,  54.02757497],\n",
       "       [ 19.22341492,  35.49619661,  89.24249745,  17.41539023,\n",
       "        239.6651557 ,  50.50892361],\n",
       "       [ 21.11565998,  25.92083436,  92.24694269,   4.71584861,\n",
       "        242.34294171,  51.96591801]])"
      ]
     },
     "execution_count": 6,
     "metadata": {},
     "output_type": "execute_result"
    }
   ],
   "source": [
    "kmeans.transform(X)"
   ]
  },
  {
   "cell_type": "code",
   "execution_count": 7,
   "id": "bd7bff5b",
   "metadata": {},
   "outputs": [
    {
     "data": {
      "text/plain": [
       "array([5, 0, 4, ..., 4, 4, 4])"
      ]
     },
     "execution_count": 7,
     "metadata": {},
     "output_type": "execute_result"
    }
   ],
   "source": [
    "kmeans_iter1 = KMeans(n_clusters=6, init=\"random\", n_init=1,\n",
    "                     algorithm=\"full\", max_iter=1, random_state=1)\n",
    "kmeans_iter2 = KMeans(n_clusters=6, init=\"random\", n_init=1,\n",
    "                     algorithm=\"full\", max_iter=2, random_state=1)\n",
    "kmeans_iter3 = KMeans(n_clusters=6, init=\"random\", n_init=1,\n",
    "                     algorithm=\"full\", max_iter=3, random_state=1)\n",
    "\n",
    "kmeans_iteropt = KMeans(n_clusters=6, init=\"random\", n_init=1,\n",
    "                     algorithm=\"full\", random_state=1)\n",
    "\n",
    "kmeans_iter1.fit(X)\n",
    "kmeans_iter2.fit(X)\n",
    "kmeans_iter3.fit(X)\n",
    "kmeans_iteropt.fit_predict(X)\n"
   ]
  },
  {
   "cell_type": "code",
   "execution_count": 8,
   "id": "23b09745",
   "metadata": {},
   "outputs": [
    {
     "name": "stdout",
     "output_type": "stream",
     "text": [
      "360619.673650818\n",
      "301160.7709131922\n",
      "283655.05031322286\n",
      "193446.10082452712\n"
     ]
    }
   ],
   "source": [
    "print(kmeans_iter1.inertia_)\n",
    "print(kmeans_iter2.inertia_)\n",
    "print(kmeans_iter3.inertia_)\n",
    "print(kmeans_iteropt.inertia_)\n"
   ]
  },
  {
   "cell_type": "code",
   "execution_count": 9,
   "id": "6aedfa91",
   "metadata": {},
   "outputs": [
    {
     "name": "stdout",
     "output_type": "stream",
     "text": [
      "[1914079.6278043417, 691909.8671253193, 395309.18345559755, 283160.6091504805, 221659.44644647645, 193446.10082452712, 177468.31349097943, 159874.45462706956, 152486.8690212153, 146380.75587579454, 143287.42815612775, 135870.1212595987, 117203.94685020002, 112629.0311078318, 76365.16992421394, 122330.3551483429, 102697.77756512737, 100601.80230913228, 98265.93953143091]\n"
     ]
    }
   ],
   "source": [
    "kmeans_per_k = [KMeans(n_clusters=k, init=\"random\", n_init=1,\n",
    "                     algorithm=\"full\", random_state=1).fit(X)\n",
    "                for k in range(1, 20)]\n",
    "inertias = [model.inertia_ for model in kmeans_per_k]\n",
    "print(inertias)"
   ]
  },
  {
   "cell_type": "code",
   "execution_count": 10,
   "id": "d9b9cd23",
   "metadata": {},
   "outputs": [
    {
     "data": {
      "image/png": "[encoded data removed]",
      "text/plain": [
       "<Figure size 576x252 with 1 Axes>"
      ]
     },
     "metadata": {
      "needs_background": "light"
     },
     "output_type": "display_data"
    }
   ],
   "source": [
    "plt.figure(figsize=(8, 3.5))\n",
    "plt.plot(range(1, 20), inertias, \"bo-\")\n",
    "plt.xlabel(\"$k$\", fontsize=14)\n",
    "plt.ylabel(\"Inertia\", fontsize=14)\n",
    "\n",
    "            \n",
    "plt.axis([1, 20, 0, 300000])\n",
    "plt.show()"
   ]
  },
  {
   "cell_type": "markdown",
   "id": "a710dcd0",
   "metadata": {},
   "source": [
    "## Compare to orignally given quality"
   ]
  },
  {
   "cell_type": "code",
   "execution_count": 11,
   "id": "181ca11d",
   "metadata": {},
   "outputs": [
    {
     "name": "stdout",
     "output_type": "stream",
     "text": [
      "(1599,)\n",
      "(1599,)\n"
     ]
    }
   ],
   "source": [
    "y_array = np.array(y)\n",
    "y_pred_array = kmeans_iteropt.labels_\n",
    "agglom_array = np.array(y_pred_agglom)\n",
    "gauss_array = np.array(y_pred_gauss)\n",
    "print(y_array.shape)\n",
    "print(y_pred_array.shape)"
   ]
  },
  {
   "cell_type": "code",
   "execution_count": 12,
   "id": "14a75770",
   "metadata": {},
   "outputs": [
    {
     "data": {
      "image/png": "[encoded data removed]",
      "text/plain": [
       "<Figure size 432x288 with 1 Axes>"
      ]
     },
     "metadata": {
      "needs_background": "light"
     },
     "output_type": "display_data"
    }
   ],
   "source": [
    "plt.hist(y_array, bins = [3,4,5,6,7,8,9]) \n",
    "plt.title(\"y_histogram\") \n",
    "plt.show()"
   ]
  },
  {
   "cell_type": "code",
   "execution_count": 13,
   "id": "01471fa3",
   "metadata": {},
   "outputs": [
    {
     "data": {
      "image/png": "[encoded data removed]",
      "text/plain": [
       "<Figure size 432x288 with 1 Axes>"
      ]
     },
     "metadata": {
      "needs_background": "light"
     },
     "output_type": "display_data"
    }
   ],
   "source": [
    "plt.hist(agglom_array, bins = [0,1,2,3,4,5,6]) \n",
    "plt.title(\"y_pred_agglom_histogram\") \n",
    "plt.show()"
   ]
  },
  {
   "cell_type": "code",
   "execution_count": 14,
   "id": "3d4aba27",
   "metadata": {},
   "outputs": [
    {
     "data": {
      "image/png": "[encoded data removed]",
      "text/plain": [
       "<Figure size 432x288 with 1 Axes>"
      ]
     },
     "metadata": {
      "needs_background": "light"
     },
     "output_type": "display_data"
    }
   ],
   "source": [
    "plt.hist(y_pred_array, bins = [0,1,2,3,4,5,6]) \n",
    "plt.title(\"y_pred_histogram\") \n",
    "plt.show()"
   ]
  },
  {
   "cell_type": "code",
   "execution_count": 15,
   "id": "c97c4910",
   "metadata": {},
   "outputs": [
    {
     "data": {
      "image/png": "[encoded data removed]",
      "text/plain": [
       "<Figure size 432x288 with 1 Axes>"
      ]
     },
     "metadata": {
      "needs_background": "light"
     },
     "output_type": "display_data"
    }
   ],
   "source": [
    "plt.hist(gauss_array, bins = [0,1,2,3,4,5,6]) \n",
    "plt.title(\"y_pred_gauss_histogram\") \n",
    "plt.show()"
   ]
  },
  {
   "cell_type": "code",
   "execution_count": 16,
   "id": "32d409f4",
   "metadata": {},
   "outputs": [
    {
     "name": "stdout",
     "output_type": "stream",
     "text": [
      "[6 0 4 ... 4 4 4]\n"
     ]
    }
   ],
   "source": [
    "y_pred_replaced = np.where(y_pred_array==0, 4, y_pred_array)\n",
    "y_pred_replaced = np.where(y_pred_array==1, 3, y_pred_array)\n",
    "y_pred_replaced = np.where(y_pred_array==2, 5, y_pred_array)\n",
    "y_pred_replaced = np.where(y_pred_array==3, 8, y_pred_array)\n",
    "y_pred_replaced = np.where(y_pred_array==4, 7, y_pred_array)\n",
    "y_pred_replaced = np.where(y_pred_array==5, 6, y_pred_array)\n",
    "\n",
    "print(y_pred_replaced)\n",
    "\n",
    "#find loop to run through all possibillities..."
   ]
  },
  {
   "cell_type": "code",
   "execution_count": 17,
   "id": "cd33cf72",
   "metadata": {},
   "outputs": [],
   "source": [
    "def calc_accuracy(X,Y):\n",
    "    correct = 0\n",
    "    for i in range(1599):\n",
    "        if X[i] == Y[i]:\n",
    "            correct +=1\n",
    "\n",
    "    accuracy = (correct/1599)*100\n",
    "    print(accuracy)"
   ]
  },
  {
   "cell_type": "code",
   "execution_count": 18,
   "id": "a1583b87",
   "metadata": {},
   "outputs": [
    {
     "name": "stdout",
     "output_type": "stream",
     "text": [
      "Self-designed accuracy score\n",
      "11.694809255784866\n",
      "39.64978111319575\n",
      "8.005003126954346\n",
      "10.819262038774234\n",
      " \n",
      "Metrics rand_ accuracy score\n",
      "0.5872498534362449\n",
      "0.5872498534362449\n",
      "0.5569876667285013\n",
      "0.6009223536925847\n"
     ]
    }
   ],
   "source": [
    "from sklearn import metrics\n",
    "\n",
    "print(\"Self-designed accuracy score\")\n",
    "calc_accuracy(y_pred_replaced, y_array)\n",
    "calc_accuracy(y_pred_array,agglom_array)\n",
    "calc_accuracy(y_pred_array,gauss_array)\n",
    "calc_accuracy(gauss_array,agglom_array)\n",
    "print(\" \")\n",
    "print(\"Metrics rand_ accuracy score\")\n",
    "print(metrics.rand_score(y_array, y_pred_replaced))\n",
    "print(metrics.rand_score(y_array, y_pred_array))\n",
    "print(metrics.rand_score(y_array, agglom_array))\n",
    "print(metrics.rand_score(y_array, gauss_array))"
   ]
  },
  {
   "cell_type": "markdown",
   "id": "9809214a",
   "metadata": {},
   "source": [
    "## Conclusions"
   ]
  },
  {
   "cell_type": "markdown",
   "id": "ab91eaa1",
   "metadata": {},
   "source": [
    "The Inertia score for the K means algorithm got to a minimum of 19000. The cluster graph shows that it might be benefitial to grade the wines using a more precise scale, using 5,5 -7,5 etc.The histograms show that this algorithm does work a lot better than the bayesian algorithm, as the classes are much better filled then just the middle ones. I am not sure on the results of the other algorithms, I could not find a good way to test their accuracy on this data set. I compared them to the K-means algorithm which I thought was the most developed algorithm. Considering this I would give the agglomerative clustering the chance to proof itself in further development. \n",
    "\n",
    "After using rand_score accuracy I would give the gaussian clustering the benefit for further development, as well as being happy about the result of the K-means.\n",
    "\n",
    "Pros: quick and easy to use on larger data sets\n",
    "Cons: It suffers from singularities\n",
    "\n"
   ]
  },
  {
   "cell_type": "code",
   "execution_count": null,
   "id": "1fad18e1",
   "metadata": {},
   "outputs": [],
   "source": []
  }
 ],
 "metadata": {
  "kernelspec": {
   "display_name": "Python 3 (ipykernel)",
   "language": "python",
   "name": "python3"
  },
  "language_info": {
   "codemirror_mode": {
    "name": "ipython",
    "version": 3
   },
   "file_extension": ".py",
   "mimetype": "text/x-python",
   "name": "python",
   "nbconvert_exporter": "python",
   "pygments_lexer": "ipython3",
   "version": "3.8.11"
  }
 },
 "nbformat": 4,
 "nbformat_minor": 5
}
